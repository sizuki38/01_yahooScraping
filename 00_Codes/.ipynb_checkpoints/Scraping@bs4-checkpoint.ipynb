{
 "cells": [
  {
   "cell_type": "code",
   "execution_count": 187,
   "id": "3fe7b735",
   "metadata": {},
   "outputs": [],
   "source": [
    "from bs4 import BeautifulSoup\n",
    "from urllib import request\n",
    "\n",
    "import pandas as pd\n",
    "import datetime\n",
    "\n",
    "import glob\n",
    "\n",
    "white = '/home/ichikawa17/01_yahooScraping/'"
   ]
  },
  {
   "cell_type": "code",
   "execution_count": 189,
   "id": "ecc7bded",
   "metadata": {
    "scrolled": true
   },
   "outputs": [
    {
     "data": {
      "text/html": [
       "<div>\n",
       "<style scoped>\n",
       "    .dataframe tbody tr th:only-of-type {\n",
       "        vertical-align: middle;\n",
       "    }\n",
       "\n",
       "    .dataframe tbody tr th {\n",
       "        vertical-align: top;\n",
       "    }\n",
       "\n",
       "    .dataframe thead th {\n",
       "        text-align: right;\n",
       "    }\n",
       "</style>\n",
       "<table border=\"1\" class=\"dataframe\">\n",
       "  <thead>\n",
       "    <tr style=\"text-align: right;\">\n",
       "      <th></th>\n",
       "      <th>title</th>\n",
       "      <th>url</th>\n",
       "    </tr>\n",
       "  </thead>\n",
       "  <tbody>\n",
       "    <tr>\n",
       "      <th>0</th>\n",
       "      <td>小室圭さん、次回も不合格なら勤務先をクビの可能性も頼りは眞子さんの貯金1億円</td>\n",
       "      <td>https://news.yahoo.co.jp/articles/fc2095396a8e...</td>\n",
       "    </tr>\n",
       "    <tr>\n",
       "      <th>1</th>\n",
       "      <td>18歳以下に10万円相当給付自民「年収960万円まで」主張与党合意</td>\n",
       "      <td>https://news.yahoo.co.jp/articles/c832dfdcbd2b...</td>\n",
       "    </tr>\n",
       "    <tr>\n",
       "      <th>2</th>\n",
       "      <td>マイナポイント、段階ごとに最大2万円付与自公が最終調整</td>\n",
       "      <td>https://news.yahoo.co.jp/articles/b55f99ef492f...</td>\n",
       "    </tr>\n",
       "    <tr>\n",
       "      <th>3</th>\n",
       "      <td>蓮舫氏、マイナポイント付与政策に怒り「単なるマイナンバーカード普及のためのバラマキです」</td>\n",
       "      <td>https://news.yahoo.co.jp/articles/ebb169c229f1...</td>\n",
       "    </tr>\n",
       "    <tr>\n",
       "      <th>4</th>\n",
       "      <td>介護職など賃金引き上げへ月5000～1万円、22年2月にも</td>\n",
       "      <td>https://news.yahoo.co.jp/articles/79e0f5b401f2...</td>\n",
       "    </tr>\n",
       "    <tr>\n",
       "      <th>5</th>\n",
       "      <td>無免許当て逃げの木下富美子都議、休養中の議員報酬は全額寄付政務活動費も請求せず</td>\n",
       "      <td>https://news.yahoo.co.jp/articles/f234945418d4...</td>\n",
       "    </tr>\n",
       "    <tr>\n",
       "      <th>6</th>\n",
       "      <td>＜実写ワンピ＞ゾロ役は新田真剣佑！メインキャスト5人発表 尾田「“麦わらの一味”になりうる人達」</td>\n",
       "      <td>https://news.yahoo.co.jp/articles/1548bcd65784...</td>\n",
       "    </tr>\n",
       "    <tr>\n",
       "      <th>7</th>\n",
       "      <td>眞子さんも承知の「4年で離婚した駆け落ち婚の女性皇族」と小室圭さんとの絆</td>\n",
       "      <td>https://news.yahoo.co.jp/articles/d4882ab4b073...</td>\n",
       "    </tr>\n",
       "    <tr>\n",
       "      <th>8</th>\n",
       "      <td>【速報】閣議で岸田内閣総辞職午後に第2次岸田内閣発足へ</td>\n",
       "      <td>https://news.yahoo.co.jp/articles/3330bff1d193...</td>\n",
       "    </tr>\n",
       "    <tr>\n",
       "      <th>9</th>\n",
       "      <td>【MLB】ハンク・アーロン賞はゲレーロJr.とハーパーが受賞エンゼルス・大谷翔平はファイナリ...</td>\n",
       "      <td>https://news.yahoo.co.jp/articles/d308b8ceee1a...</td>\n",
       "    </tr>\n",
       "  </tbody>\n",
       "</table>\n",
       "</div>"
      ],
      "text/plain": [
       "                                               title  \\\n",
       "0             小室圭さん、次回も不合格なら勤務先をクビの可能性も頼りは眞子さんの貯金1億円   \n",
       "1                  18歳以下に10万円相当給付自民「年収960万円まで」主張与党合意   \n",
       "2                        マイナポイント、段階ごとに最大2万円付与自公が最終調整   \n",
       "3       蓮舫氏、マイナポイント付与政策に怒り「単なるマイナンバーカード普及のためのバラマキです」   \n",
       "4                      介護職など賃金引き上げへ月5000～1万円、22年2月にも   \n",
       "5            無免許当て逃げの木下富美子都議、休養中の議員報酬は全額寄付政務活動費も請求せず   \n",
       "6   ＜実写ワンピ＞ゾロ役は新田真剣佑！メインキャスト5人発表 尾田「“麦わらの一味”になりうる人達」   \n",
       "7               眞子さんも承知の「4年で離婚した駆け落ち婚の女性皇族」と小室圭さんとの絆   \n",
       "8                        【速報】閣議で岸田内閣総辞職午後に第2次岸田内閣発足へ   \n",
       "9  【MLB】ハンク・アーロン賞はゲレーロJr.とハーパーが受賞エンゼルス・大谷翔平はファイナリ...   \n",
       "\n",
       "                                                 url  \n",
       "0  https://news.yahoo.co.jp/articles/fc2095396a8e...  \n",
       "1  https://news.yahoo.co.jp/articles/c832dfdcbd2b...  \n",
       "2  https://news.yahoo.co.jp/articles/b55f99ef492f...  \n",
       "3  https://news.yahoo.co.jp/articles/ebb169c229f1...  \n",
       "4  https://news.yahoo.co.jp/articles/79e0f5b401f2...  \n",
       "5  https://news.yahoo.co.jp/articles/f234945418d4...  \n",
       "6  https://news.yahoo.co.jp/articles/1548bcd65784...  \n",
       "7  https://news.yahoo.co.jp/articles/d4882ab4b073...  \n",
       "8  https://news.yahoo.co.jp/articles/3330bff1d193...  \n",
       "9  https://news.yahoo.co.jp/articles/d308b8ceee1a...  "
      ]
     },
     "execution_count": 189,
     "metadata": {},
     "output_type": "execute_result"
    }
   ],
   "source": [
    "top_page = \"https://news.yahoo.co.jp/ranking/comment\"\n",
    "response = request.urlopen(top_page)\n",
    "soup = BeautifulSoup(response)\n",
    "response.close()\n",
    "newsFeed=soup.find('div',class_ = 'newsFeed')\n",
    "df(titles(newsFeed),links(newsFeed))"
   ]
  },
  {
   "cell_type": "code",
   "execution_count": 188,
   "id": "491e81bb",
   "metadata": {},
   "outputs": [],
   "source": [
    "def titles(newsFeed):\n",
    "    newsFeed_item_title = newsFeed.find_all('div', class_='newsFeed_item_title')\n",
    "    titles = []\n",
    "    for i in newsFeed_item_title[:10]:\n",
    "        titles.append(i.text.replace('\\u3000', ''))\n",
    "    return titles\n",
    "\n",
    "def links(newsFeed):\n",
    "    newsFeed_item_link = newsFeed.find_all('a', class_='newsFeed_item_link')\n",
    "    links = []\n",
    "    for i in newsFeed_item_link[:10]:\n",
    "        links.append(str(i).split('\"')[5])\n",
    "    return links\n",
    "\n",
    "def df(titles,links):\n",
    "    dt_now = datetime.datetime.now()\n",
    "    df = pd.DataFrame(columns=['title','url'])\n",
    "    for i in zip(titles,links):\n",
    "        series = pd.Series(i, index=df.columns)\n",
    "        df = df.append(series,ignore_index=True)\n",
    "    df.to_csv(white+'01_NewsList/'+dt_now.strftime('%m%d_%H')+'newslists.csv')\n",
    "    return df"
   ]
  },
  {
   "cell_type": "code",
   "execution_count": 190,
   "id": "f2574a24",
   "metadata": {},
   "outputs": [
    {
     "name": "stdout",
     "output_type": "stream",
     "text": [
      "['/home/ichikawa17/01_yahooScraping/01_NewsList/1109_15newslists.csv', '/home/ichikawa17/01_yahooScraping/01_NewsList/1109_16newslists.csv', '/home/ichikawa17/01_yahooScraping/01_NewsList/1110_10newslists.csv']\n"
     ]
    }
   ],
   "source": [
    "files = glob.glob(white+'01_NewsList/*newslists.csv')\n",
    "print(sorted(files))\n",
    "df = pd.read_csv(sorted(files)[-1])"
   ]
  },
  {
   "cell_type": "code",
   "execution_count": null,
   "id": "d4f79cb1",
   "metadata": {
    "scrolled": true
   },
   "outputs": [],
   "source": [
    "response = request.urlopen('https://news.yahoo.co.jp/articles/c832dfdcbd2b1ee91a9422275c1162354ab6c0a9')\n",
    "soup = BeautifulSoup(response)\n",
    "response.close()\n",
    "a = soup.find('div',class_='sc-bGbJRg')\n",
    "b = a.find_all('p')\n",
    "c = b.find('a').text\n",
    "(b.text).replace(c,\"\").replace('\\u3000','').replace('\\n','')"
   ]
  },
  {
   "cell_type": "code",
   "execution_count": 192,
   "id": "49df406f",
   "metadata": {},
   "outputs": [
    {
     "data": {
      "text/plain": [
       "'https://news.yahoo.co.jp/articles/fc2095396a8e08744d4b308d0f409bf869c8d9b4'"
      ]
     },
     "execution_count": 192,
     "metadata": {},
     "output_type": "execute_result"
    }
   ],
   "source": [
    "url=df.values.tolist()[0][2]\n",
    "url"
   ]
  },
  {
   "cell_type": "code",
   "execution_count": 194,
   "id": "03d93e5c",
   "metadata": {},
   "outputs": [
    {
     "data": {
      "text/html": [
       "<div>\n",
       "<style scoped>\n",
       "    .dataframe tbody tr th:only-of-type {\n",
       "        vertical-align: middle;\n",
       "    }\n",
       "\n",
       "    .dataframe tbody tr th {\n",
       "        vertical-align: top;\n",
       "    }\n",
       "\n",
       "    .dataframe thead th {\n",
       "        text-align: right;\n",
       "    }\n",
       "</style>\n",
       "<table border=\"1\" class=\"dataframe\">\n",
       "  <thead>\n",
       "    <tr style=\"text-align: right;\">\n",
       "      <th></th>\n",
       "      <th>Unnamed: 0</th>\n",
       "      <th>title</th>\n",
       "      <th>url</th>\n",
       "    </tr>\n",
       "  </thead>\n",
       "  <tbody>\n",
       "    <tr>\n",
       "      <th>0</th>\n",
       "      <td>0</td>\n",
       "      <td>小室圭さん、次回も不合格なら勤務先をクビの可能性も頼りは眞子さんの貯金1億円</td>\n",
       "      <td>https://news.yahoo.co.jp/articles/fc2095396a8e...</td>\n",
       "    </tr>\n",
       "    <tr>\n",
       "      <th>1</th>\n",
       "      <td>1</td>\n",
       "      <td>18歳以下に10万円相当給付自民「年収960万円まで」主張与党合意</td>\n",
       "      <td>https://news.yahoo.co.jp/articles/c832dfdcbd2b...</td>\n",
       "    </tr>\n",
       "    <tr>\n",
       "      <th>2</th>\n",
       "      <td>2</td>\n",
       "      <td>マイナポイント、段階ごとに最大2万円付与自公が最終調整</td>\n",
       "      <td>https://news.yahoo.co.jp/articles/b55f99ef492f...</td>\n",
       "    </tr>\n",
       "    <tr>\n",
       "      <th>3</th>\n",
       "      <td>3</td>\n",
       "      <td>蓮舫氏、マイナポイント付与政策に怒り「単なるマイナンバーカード普及のためのバラマキです」</td>\n",
       "      <td>https://news.yahoo.co.jp/articles/ebb169c229f1...</td>\n",
       "    </tr>\n",
       "    <tr>\n",
       "      <th>4</th>\n",
       "      <td>4</td>\n",
       "      <td>介護職など賃金引き上げへ月5000～1万円、22年2月にも</td>\n",
       "      <td>https://news.yahoo.co.jp/articles/79e0f5b401f2...</td>\n",
       "    </tr>\n",
       "    <tr>\n",
       "      <th>5</th>\n",
       "      <td>5</td>\n",
       "      <td>無免許当て逃げの木下富美子都議、休養中の議員報酬は全額寄付政務活動費も請求せず</td>\n",
       "      <td>https://news.yahoo.co.jp/articles/f234945418d4...</td>\n",
       "    </tr>\n",
       "    <tr>\n",
       "      <th>6</th>\n",
       "      <td>6</td>\n",
       "      <td>＜実写ワンピ＞ゾロ役は新田真剣佑！メインキャスト5人発表 尾田「“麦わらの一味”になりうる人達」</td>\n",
       "      <td>https://news.yahoo.co.jp/articles/1548bcd65784...</td>\n",
       "    </tr>\n",
       "    <tr>\n",
       "      <th>7</th>\n",
       "      <td>7</td>\n",
       "      <td>眞子さんも承知の「4年で離婚した駆け落ち婚の女性皇族」と小室圭さんとの絆</td>\n",
       "      <td>https://news.yahoo.co.jp/articles/d4882ab4b073...</td>\n",
       "    </tr>\n",
       "    <tr>\n",
       "      <th>8</th>\n",
       "      <td>8</td>\n",
       "      <td>【速報】閣議で岸田内閣総辞職午後に第2次岸田内閣発足へ</td>\n",
       "      <td>https://news.yahoo.co.jp/articles/3330bff1d193...</td>\n",
       "    </tr>\n",
       "    <tr>\n",
       "      <th>9</th>\n",
       "      <td>9</td>\n",
       "      <td>【MLB】ハンク・アーロン賞はゲレーロJr.とハーパーが受賞エンゼルス・大谷翔平はファイナリ...</td>\n",
       "      <td>https://news.yahoo.co.jp/articles/d308b8ceee1a...</td>\n",
       "    </tr>\n",
       "  </tbody>\n",
       "</table>\n",
       "</div>"
      ],
      "text/plain": [
       "   Unnamed: 0                                              title  \\\n",
       "0           0             小室圭さん、次回も不合格なら勤務先をクビの可能性も頼りは眞子さんの貯金1億円   \n",
       "1           1                  18歳以下に10万円相当給付自民「年収960万円まで」主張与党合意   \n",
       "2           2                        マイナポイント、段階ごとに最大2万円付与自公が最終調整   \n",
       "3           3       蓮舫氏、マイナポイント付与政策に怒り「単なるマイナンバーカード普及のためのバラマキです」   \n",
       "4           4                      介護職など賃金引き上げへ月5000～1万円、22年2月にも   \n",
       "5           5            無免許当て逃げの木下富美子都議、休養中の議員報酬は全額寄付政務活動費も請求せず   \n",
       "6           6   ＜実写ワンピ＞ゾロ役は新田真剣佑！メインキャスト5人発表 尾田「“麦わらの一味”になりうる人達」   \n",
       "7           7               眞子さんも承知の「4年で離婚した駆け落ち婚の女性皇族」と小室圭さんとの絆   \n",
       "8           8                        【速報】閣議で岸田内閣総辞職午後に第2次岸田内閣発足へ   \n",
       "9           9  【MLB】ハンク・アーロン賞はゲレーロJr.とハーパーが受賞エンゼルス・大谷翔平はファイナリ...   \n",
       "\n",
       "                                                 url  \n",
       "0  https://news.yahoo.co.jp/articles/fc2095396a8e...  \n",
       "1  https://news.yahoo.co.jp/articles/c832dfdcbd2b...  \n",
       "2  https://news.yahoo.co.jp/articles/b55f99ef492f...  \n",
       "3  https://news.yahoo.co.jp/articles/ebb169c229f1...  \n",
       "4  https://news.yahoo.co.jp/articles/79e0f5b401f2...  \n",
       "5  https://news.yahoo.co.jp/articles/f234945418d4...  \n",
       "6  https://news.yahoo.co.jp/articles/1548bcd65784...  \n",
       "7  https://news.yahoo.co.jp/articles/d4882ab4b073...  \n",
       "8  https://news.yahoo.co.jp/articles/3330bff1d193...  \n",
       "9  https://news.yahoo.co.jp/articles/d308b8ceee1a...  "
      ]
     },
     "execution_count": 194,
     "metadata": {},
     "output_type": "execute_result"
    }
   ],
   "source": [
    "df"
   ]
  },
  {
   "cell_type": "code",
   "execution_count": 238,
   "id": "af21bde9",
   "metadata": {},
   "outputs": [],
   "source": [
    "for num,title,url in df.values.tolist():\n",
    "    response = request.urlopen(url)\n",
    "    soup = BeautifulSoup(response)\n",
    "    response.close()\n",
    "    news_text = soup.find('div',class_='sc-bGbJRg').text\n",
    "    with open(f\"{white}01_NewsMain/{title}.txt\",mode='w') as f:\n",
    "        f.write(news_text)"
   ]
  },
  {
   "cell_type": "code",
   "execution_count": 242,
   "id": "a8c96083",
   "metadata": {},
   "outputs": [
    {
     "name": "stdout",
     "output_type": "stream",
     "text": [
      "自民党の茂木敏充（左）、公明党の石井啓一両幹事長　自民、公明両党は9日、新型コロナウイルス感染拡大を踏まえた経済対策をめぐり、18歳以下に10万円相当を給付することで大筋合意した。\n",
      "\n",
      "【図解】生活困窮相談の新規受付件数\n",
      "\n",
      "　年内をめどに5万円の現金、来年春までに5万円相当のクーポンを配る。自民党は年収960万円の所得制限を設けるよう主張。公明党は持ち帰ったが、所得制限自体は受け入れる方向だ。\n",
      "\n",
      "　自民党の茂木敏充、公明党の石井啓一両幹事長が9日、国会内で前日に続き会談。自民党が衆院選で掲げた生活困窮者支援に関し、18歳以下への給付とは別に、住民税非課税世帯を対象に10万円を給付することでも一致した。一時的な生活資金を提供する「緊急小口資金」や、学生らを対象にした住居費支援も行う。　\n"
     ]
    }
   ],
   "source": [
    "with open(f\"{white}01_NewsMain/18歳以下に10万円相当給付自民「年収960万円まで」主張与党合意.txt\",mode='r')as f:\n",
    "    print(f.read())"
   ]
  },
  {
   "cell_type": "code",
   "execution_count": null,
   "id": "22921639",
   "metadata": {},
   "outputs": [],
   "source": []
  }
 ],
 "metadata": {
  "kernelspec": {
   "display_name": "Python 3 (ipykernel)",
   "language": "python",
   "name": "python3"
  },
  "language_info": {
   "codemirror_mode": {
    "name": "ipython",
    "version": 3
   },
   "file_extension": ".py",
   "mimetype": "text/x-python",
   "name": "python",
   "nbconvert_exporter": "python",
   "pygments_lexer": "ipython3",
   "version": "3.8.12"
  }
 },
 "nbformat": 4,
 "nbformat_minor": 5
}
