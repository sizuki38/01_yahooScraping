{
 "cells": [
  {
   "cell_type": "code",
   "execution_count": 3,
   "metadata": {},
   "outputs": [
    {
     "name": "stdout",
     "output_type": "stream",
     "text": [
      "['私', 'は', '果物', 'が', 'とても', '好き', 'です', '。', '私', 'は', '野菜', 'が', 'とても', '嫌い', 'です', '。']\n"
     ]
    }
   ],
   "source": [
    "import MeCab, random\n",
    "\n",
    "text = \"私は果物がとても好きです。私は野菜がとても嫌いです。\"  \n",
    "wakati = MeCab.Tagger(\"-Owakati\")\n",
    "a = wakati.parse(text)\n",
    "wordlist = a.split()\n",
    "print(wordlist)"
   ]
  },
  {
   "cell_type": "code",
   "execution_count": 2,
   "metadata": {},
   "outputs": [
    {
     "name": "stdout",
     "output_type": "stream",
     "text": [
      "{('私', 'は'): ['果物', '野菜'], ('は', '果物'): ['が'], ('果物', 'が'): ['とても'], ('が', 'とても'): ['好き', '嫌い'], ('とても', '好き'): ['です'], ('好き', 'です'): ['。'], ('です', '。'): ['私'], ('。', '私'): ['は'], ('は', '野菜'): ['が'], ('野菜', 'が'): ['とても'], ('とても', '嫌い'): ['です'], ('嫌い', 'です'): ['。']}\n"
     ]
    }
   ],
   "source": [
    "i = 0\n",
    "markov = {}\n",
    "w1 = \"\"\n",
    "w2 = \"\"\n",
    "for word in wordlist:\n",
    "    if w1 and w2:\n",
    "        if (w1, w2) not in markov:\n",
    "            markov[(w1, w2)]=[]\n",
    "        markov[(w1, w2)].append(word)\n",
    "    w1 = w2\n",
    "    w2 = word\n",
    "print(markov)"
   ]
  },
  {
   "cell_type": "code",
   "execution_count": 11,
   "metadata": {},
   "outputs": [
    {
     "name": "stdout",
     "output_type": "stream",
     "text": [
      "がとても好きです。\n",
      "私は果物がとても嫌いです。\n",
      "私は果物がとても好きです。\n",
      "私は果物がとても嫌いです。\n",
      "私は果物がとても嫌いです。\n",
      "私は野菜がとても好きです。\n",
      "私は果物がとても嫌いです。\n",
      "私は果物がとても嫌いです。\n",
      "私は野菜がとても嫌いです。\n",
      "私は果物がとても好きです。\n",
      "\n"
     ]
    }
   ],
   "source": [
    "count = 0  # 文のカウンタ\n",
    "num= 10  # 生成する文の数\n",
    "sentence = \"\"  # 文を格納する変数\n",
    "w1, w2  = random.choice(list(markov.keys()))  # 2単語をランダムに選ぶ\n",
    "while count < num:\n",
    "    tmp = random.choice(markov[(w1, w2)])  # 2単語に続く候補の中からランダムに選択する\n",
    "    sentence += tmp  # 文に１単語追加\n",
    "    if(tmp=='。'):  # '。' があったら\n",
    "        count += 1  # 文のカウンタを＋１\n",
    "        sentence += '\\n' # 改行を追加\n",
    "    w1, w2 = w2, tmp  # １単語スライド\n",
    "print(sentence)"
   ]
  },
  {
   "cell_type": "code",
   "execution_count": null,
   "metadata": {},
   "outputs": [],
   "source": []
  }
 ],
 "metadata": {
  "kernelspec": {
   "display_name": "Python 3",
   "language": "python",
   "name": "python3"
  },
  "language_info": {
   "codemirror_mode": {
    "name": "ipython",
    "version": 3
   },
   "file_extension": ".py",
   "mimetype": "text/x-python",
   "name": "python",
   "nbconvert_exporter": "python",
   "pygments_lexer": "ipython3",
   "version": "3.8.5"
  }
 },
 "nbformat": 4,
 "nbformat_minor": 4
}
