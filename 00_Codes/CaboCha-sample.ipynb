{
 "cells": [
  {
   "cell_type": "code",
   "execution_count": 1,
   "metadata": {
    "scrolled": true
   },
   "outputs": [],
   "source": [
    "import CaboCha"
   ]
  },
  {
   "cell_type": "code",
   "execution_count": 2,
   "metadata": {
    "scrolled": true
   },
   "outputs": [
    {
     "name": "stdout",
     "output_type": "stream",
     "text": [
      "  猫は-------D\n",
      "  道路を-D   |\n",
      "      渡る-D |\n",
      "        犬を-D\n",
      "        見た。\n",
      "EOS\n",
      "\n"
     ]
    }
   ],
   "source": [
    "cp = CaboCha.Parser()\n",
    "sentence = '猫は道路を渡る犬を見た。'\n",
    "print(cp.parseToString(sentence))"
   ]
  },
  {
   "cell_type": "code",
   "execution_count": 3,
   "metadata": {},
   "outputs": [
    {
     "name": "stdout",
     "output_type": "stream",
     "text": [
      "* 0 4D 0/1 -2.106167\n",
      "猫\t名詞,一般,*,*,*,*,猫,ネコ,ネコ\n",
      "は\t助詞,係助詞,*,*,*,*,は,ハ,ワ\n",
      "* 1 2D 0/1 2.469759\n",
      "道路\t名詞,一般,*,*,*,*,道路,ドウロ,ドーロ\n",
      "を\t助詞,格助詞,一般,*,*,*,を,ヲ,ヲ\n",
      "* 2 3D 0/0 1.242908\n",
      "渡る\t動詞,自立,*,*,五段・ラ行,基本形,渡る,ワタル,ワタル\n",
      "* 3 4D 0/1 -2.106167\n",
      "犬\t名詞,一般,*,*,*,*,犬,イヌ,イヌ\n",
      "を\t助詞,格助詞,一般,*,*,*,を,ヲ,ヲ\n",
      "* 4 -1D 0/1 0.000000\n",
      "見\t動詞,自立,*,*,一段,連用形,見る,ミ,ミ\n",
      "た\t助動詞,*,*,*,特殊・タ,基本形,た,タ,タ\n",
      "。\t記号,句点,*,*,*,*,。,。,。\n",
      "EOS\n",
      "\n"
     ]
    }
   ],
   "source": [
    "tree = cp.parse(sentence)\n",
    "print(tree.toString(CaboCha.FORMAT_LATTICE))"
   ]
  },
  {
   "cell_type": "code",
   "execution_count": null,
   "metadata": {},
   "outputs": [],
   "source": []
  }
 ],
 "metadata": {
  "kernelspec": {
   "display_name": "Python 3",
   "language": "python",
   "name": "python3"
  },
  "language_info": {
   "codemirror_mode": {
    "name": "ipython",
    "version": 3
   },
   "file_extension": ".py",
   "mimetype": "text/x-python",
   "name": "python",
   "nbconvert_exporter": "python",
   "pygments_lexer": "ipython3",
   "version": "3.8.8"
  }
 },
 "nbformat": 4,
 "nbformat_minor": 4
}
