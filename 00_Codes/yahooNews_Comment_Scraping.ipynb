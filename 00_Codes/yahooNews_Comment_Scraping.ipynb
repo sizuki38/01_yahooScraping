{
 "cells": [
  {
   "cell_type": "markdown",
   "metadata": {},
   "source": [
    "# import"
   ]
  },
  {
   "cell_type": "code",
   "execution_count": 8,
   "metadata": {},
   "outputs": [],
   "source": [
    "from selenium import webdriver\n",
    "from selenium.webdriver.chrome import service as fs\n",
    "from selenium.webdriver.chrome.options import Options\n",
    "from selenium.webdriver.common.by import By\n",
    "from collections import Counter\n",
    "import time, datetime, MeCab, random, os\n",
    "import pandas as pd\n",
    "\n",
    "white = '/home/ichikawa17/01_yahooScraping/'"
   ]
  },
  {
   "cell_type": "markdown",
   "metadata": {},
   "source": [
    "# chromeDriver"
   ]
  },
  {
   "cell_type": "code",
   "execution_count": 9,
   "metadata": {},
   "outputs": [],
   "source": [
    "#chromeをheadlessで起動\n",
    "chrome_options = Options()\n",
    "chrome_options.add_argument('--headless')\n",
    "chrome_service = fs.Service(executable_path=\"/usr/local/bin/chromedriver/chromedriver95\")\n",
    "driver = webdriver.Chrome(service=chrome_service,  options=chrome_options)\n",
    "#driver = webdriver.Chrome(\"/usr/local/bin/chromedriver\")"
   ]
  },
  {
   "cell_type": "markdown",
   "metadata": {},
   "source": [
    "# ニュースリストの取得"
   ]
  },
  {
   "cell_type": "code",
   "execution_count": 10,
   "metadata": {
    "scrolled": true
   },
   "outputs": [
    {
     "ename": "NoSuchElementException",
     "evalue": "Message: no such element: Unable to locate element: {\"method\":\"css selector\",\"selector\":\".news-comment-plugin\"}\n  (Session info: headless chrome=96.0.4664.110)\nStacktrace:\n#0 0x563895abfac3 <unknown>\n#1 0x5638955998f8 <unknown>\n#2 0x5638955cf6fa <unknown>\n#3 0x563895602004 <unknown>\n#4 0x5638955ecb2d <unknown>\n#5 0x5638955ffca1 <unknown>\n#6 0x5638955ec9f3 <unknown>\n#7 0x5638955c2e14 <unknown>\n#8 0x5638955c3e05 <unknown>\n#9 0x563895af125e <unknown>\n#10 0x563895b06afa <unknown>\n#11 0x563895af21b5 <unknown>\n#12 0x563895b084c8 <unknown>\n#13 0x563895ae695b <unknown>\n#14 0x563895b23298 <unknown>\n#15 0x563895b23418 <unknown>\n#16 0x563895b3ebed <unknown>\n#17 0x7ff114147609 <unknown>\n",
     "output_type": "error",
     "traceback": [
      "\u001b[0;31m---------------------------------------------------------------------------\u001b[0m",
      "\u001b[0;31mNoSuchElementException\u001b[0m                    Traceback (most recent call last)",
      "\u001b[0;32m<ipython-input-10-7adbe32b300e>\u001b[0m in \u001b[0;36m<module>\u001b[0;34m\u001b[0m\n\u001b[1;32m     10\u001b[0m     \u001b[0mdriver\u001b[0m\u001b[0;34m.\u001b[0m\u001b[0mget\u001b[0m\u001b[0;34m(\u001b[0m\u001b[0mlink\u001b[0m\u001b[0;34m)\u001b[0m\u001b[0;34m\u001b[0m\u001b[0;34m\u001b[0m\u001b[0m\n\u001b[1;32m     11\u001b[0m     \u001b[0mtitle\u001b[0m \u001b[0;34m=\u001b[0m \u001b[0mdriver\u001b[0m\u001b[0;34m.\u001b[0m\u001b[0mtitle\u001b[0m\u001b[0;34m\u001b[0m\u001b[0;34m\u001b[0m\u001b[0m\n\u001b[0;32m---> 12\u001b[0;31m     \u001b[0mcomment_link\u001b[0m \u001b[0;34m=\u001b[0m \u001b[0mdriver\u001b[0m\u001b[0;34m.\u001b[0m\u001b[0mfind_element\u001b[0m\u001b[0;34m(\u001b[0m\u001b[0mBy\u001b[0m\u001b[0;34m.\u001b[0m\u001b[0mCLASS_NAME\u001b[0m\u001b[0;34m,\u001b[0m\u001b[0;34m'news-comment-plugin'\u001b[0m\u001b[0;34m)\u001b[0m\u001b[0;34m.\u001b[0m\u001b[0mget_attribute\u001b[0m\u001b[0;34m(\u001b[0m\u001b[0;34m'data-full-page-url'\u001b[0m\u001b[0;34m)\u001b[0m\u001b[0;34m\u001b[0m\u001b[0;34m\u001b[0m\u001b[0m\n\u001b[0m\u001b[1;32m     13\u001b[0m \u001b[0;34m\u001b[0m\u001b[0m\n\u001b[1;32m     14\u001b[0m     \u001b[0mdriver\u001b[0m\u001b[0;34m.\u001b[0m\u001b[0mget\u001b[0m\u001b[0;34m(\u001b[0m\u001b[0mcomment_link\u001b[0m\u001b[0;34m)\u001b[0m\u001b[0;34m\u001b[0m\u001b[0;34m\u001b[0m\u001b[0m\n",
      "\u001b[0;32m~/anaconda3_1/lib/python3.8/site-packages/selenium/webdriver/remote/webdriver.py\u001b[0m in \u001b[0;36mfind_element\u001b[0;34m(self, by, value)\u001b[0m\n\u001b[1;32m   1242\u001b[0m             \u001b[0mvalue\u001b[0m \u001b[0;34m=\u001b[0m \u001b[0;34m'[name=\"%s\"]'\u001b[0m \u001b[0;34m%\u001b[0m \u001b[0mvalue\u001b[0m\u001b[0;34m\u001b[0m\u001b[0;34m\u001b[0m\u001b[0m\n\u001b[1;32m   1243\u001b[0m \u001b[0;34m\u001b[0m\u001b[0m\n\u001b[0;32m-> 1244\u001b[0;31m         return self.execute(Command.FIND_ELEMENT, {\n\u001b[0m\u001b[1;32m   1245\u001b[0m             \u001b[0;34m'using'\u001b[0m\u001b[0;34m:\u001b[0m \u001b[0mby\u001b[0m\u001b[0;34m,\u001b[0m\u001b[0;34m\u001b[0m\u001b[0;34m\u001b[0m\u001b[0m\n\u001b[1;32m   1246\u001b[0m             'value': value})['value']\n",
      "\u001b[0;32m~/anaconda3_1/lib/python3.8/site-packages/selenium/webdriver/remote/webdriver.py\u001b[0m in \u001b[0;36mexecute\u001b[0;34m(self, driver_command, params)\u001b[0m\n\u001b[1;32m    422\u001b[0m         \u001b[0mresponse\u001b[0m \u001b[0;34m=\u001b[0m \u001b[0mself\u001b[0m\u001b[0;34m.\u001b[0m\u001b[0mcommand_executor\u001b[0m\u001b[0;34m.\u001b[0m\u001b[0mexecute\u001b[0m\u001b[0;34m(\u001b[0m\u001b[0mdriver_command\u001b[0m\u001b[0;34m,\u001b[0m \u001b[0mparams\u001b[0m\u001b[0;34m)\u001b[0m\u001b[0;34m\u001b[0m\u001b[0;34m\u001b[0m\u001b[0m\n\u001b[1;32m    423\u001b[0m         \u001b[0;32mif\u001b[0m \u001b[0mresponse\u001b[0m\u001b[0;34m:\u001b[0m\u001b[0;34m\u001b[0m\u001b[0;34m\u001b[0m\u001b[0m\n\u001b[0;32m--> 424\u001b[0;31m             \u001b[0mself\u001b[0m\u001b[0;34m.\u001b[0m\u001b[0merror_handler\u001b[0m\u001b[0;34m.\u001b[0m\u001b[0mcheck_response\u001b[0m\u001b[0;34m(\u001b[0m\u001b[0mresponse\u001b[0m\u001b[0;34m)\u001b[0m\u001b[0;34m\u001b[0m\u001b[0;34m\u001b[0m\u001b[0m\n\u001b[0m\u001b[1;32m    425\u001b[0m             response['value'] = self._unwrap_value(\n\u001b[1;32m    426\u001b[0m                 response.get('value', None))\n",
      "\u001b[0;32m~/anaconda3_1/lib/python3.8/site-packages/selenium/webdriver/remote/errorhandler.py\u001b[0m in \u001b[0;36mcheck_response\u001b[0;34m(self, response)\u001b[0m\n\u001b[1;32m    245\u001b[0m                 \u001b[0malert_text\u001b[0m \u001b[0;34m=\u001b[0m \u001b[0mvalue\u001b[0m\u001b[0;34m[\u001b[0m\u001b[0;34m'alert'\u001b[0m\u001b[0;34m]\u001b[0m\u001b[0;34m.\u001b[0m\u001b[0mget\u001b[0m\u001b[0;34m(\u001b[0m\u001b[0;34m'text'\u001b[0m\u001b[0;34m)\u001b[0m\u001b[0;34m\u001b[0m\u001b[0;34m\u001b[0m\u001b[0m\n\u001b[1;32m    246\u001b[0m             \u001b[0;32mraise\u001b[0m \u001b[0mexception_class\u001b[0m\u001b[0;34m(\u001b[0m\u001b[0mmessage\u001b[0m\u001b[0;34m,\u001b[0m \u001b[0mscreen\u001b[0m\u001b[0;34m,\u001b[0m \u001b[0mstacktrace\u001b[0m\u001b[0;34m,\u001b[0m \u001b[0malert_text\u001b[0m\u001b[0;34m)\u001b[0m  \u001b[0;31m# type: ignore[call-arg]  # mypy is not smart enough here\u001b[0m\u001b[0;34m\u001b[0m\u001b[0;34m\u001b[0m\u001b[0m\n\u001b[0;32m--> 247\u001b[0;31m         \u001b[0;32mraise\u001b[0m \u001b[0mexception_class\u001b[0m\u001b[0;34m(\u001b[0m\u001b[0mmessage\u001b[0m\u001b[0;34m,\u001b[0m \u001b[0mscreen\u001b[0m\u001b[0;34m,\u001b[0m \u001b[0mstacktrace\u001b[0m\u001b[0;34m)\u001b[0m\u001b[0;34m\u001b[0m\u001b[0;34m\u001b[0m\u001b[0m\n\u001b[0m\u001b[1;32m    248\u001b[0m \u001b[0;34m\u001b[0m\u001b[0m\n\u001b[1;32m    249\u001b[0m     \u001b[0;32mdef\u001b[0m \u001b[0m_value_or_default\u001b[0m\u001b[0;34m(\u001b[0m\u001b[0mself\u001b[0m\u001b[0;34m,\u001b[0m \u001b[0mobj\u001b[0m\u001b[0;34m:\u001b[0m \u001b[0mMapping\u001b[0m\u001b[0;34m[\u001b[0m\u001b[0m_KT\u001b[0m\u001b[0;34m,\u001b[0m \u001b[0m_VT\u001b[0m\u001b[0;34m]\u001b[0m\u001b[0;34m,\u001b[0m \u001b[0mkey\u001b[0m\u001b[0;34m:\u001b[0m \u001b[0m_KT\u001b[0m\u001b[0;34m,\u001b[0m \u001b[0mdefault\u001b[0m\u001b[0;34m:\u001b[0m \u001b[0m_VT\u001b[0m\u001b[0;34m)\u001b[0m \u001b[0;34m->\u001b[0m \u001b[0m_VT\u001b[0m\u001b[0;34m:\u001b[0m\u001b[0;34m\u001b[0m\u001b[0;34m\u001b[0m\u001b[0m\n",
      "\u001b[0;31mNoSuchElementException\u001b[0m: Message: no such element: Unable to locate element: {\"method\":\"css selector\",\"selector\":\".news-comment-plugin\"}\n  (Session info: headless chrome=96.0.4664.110)\nStacktrace:\n#0 0x563895abfac3 <unknown>\n#1 0x5638955998f8 <unknown>\n#2 0x5638955cf6fa <unknown>\n#3 0x563895602004 <unknown>\n#4 0x5638955ecb2d <unknown>\n#5 0x5638955ffca1 <unknown>\n#6 0x5638955ec9f3 <unknown>\n#7 0x5638955c2e14 <unknown>\n#8 0x5638955c3e05 <unknown>\n#9 0x563895af125e <unknown>\n#10 0x563895b06afa <unknown>\n#11 0x563895af21b5 <unknown>\n#12 0x563895b084c8 <unknown>\n#13 0x563895ae695b <unknown>\n#14 0x563895b23298 <unknown>\n#15 0x563895b23418 <unknown>\n#16 0x563895b3ebed <unknown>\n#17 0x7ff114147609 <unknown>\n"
     ]
    }
   ],
   "source": [
    "top_page = \"https://news.yahoo.co.jp/ranking/comment/\"\n",
    "page = '?page='\n",
    "older = '&order=older'\n",
    "driver.get(top_page)\n",
    "ol = driver.find_element(By.CLASS_NAME,'newsFeed_list')\n",
    "li = ol.find_elements(By.CLASS_NAME,'newsFeed_item_link')\n",
    "links = [i.get_attribute('href') for i in li]\n",
    "for link in links:\n",
    "    CommentList = []\n",
    "    driver.get(link)\n",
    "    title = driver.title\n",
    "    comment_link = driver.find_element(By.CLASS_NAME,'news-comment-plugin').get_attribute('data-full-page-url')\n",
    "    \n",
    "    driver.get(comment_link)\n",
    "    comment_link = driver.current_url\n",
    "    \n",
    "    driver.get(comment_link+page+'1'+older)\n",
    "    iframe = driver.find_element(By.CLASS_NAME,'news-comment-plguin-iframe')\n",
    "    driver.switch_to.frame(iframe)\n",
    "    \n",
    "    num_of_comment = driver.find_element(By.CLASS_NAME,'counter').text\n",
    "    driver.switch_to.default_content()\n",
    "    end_page = int(int(num_of_comment.split('/')[-1].strip('件'))/10)+1\n",
    "    print(end_page)\n",
    "    for num_of_comment in range(1,end_page):\n",
    "        driver.get(comment_link+\n",
    "                   page+\n",
    "                   str(num_of_comment)+\n",
    "                   older)\n",
    "        print(driver.current_url)\n",
    "        iframe = driver.find_element(By.CLASS_NAME,'news-comment-plguin-iframe')\n",
    "        driver.switch_to.frame(iframe)\n",
    "        try:\n",
    "            comment_list = driver.find_element(By.ID,'comment-list-item')\n",
    "            comments = comment_list.find_elements(By.CLASS_NAME,'commentListItem')\n",
    "            for comment in comments:\n",
    "            \n",
    "                CommentList.append(comment.find_element(By.CLASS_NAME,'cmtBody').text)\n",
    "        except:\n",
    "            pass\n",
    "    df = pd.Series(data=CommentList)\n",
    "    df.to_csv('./data_set/'+title+'.csv')"
   ]
  },
  {
   "cell_type": "code",
   "execution_count": null,
   "metadata": {},
   "outputs": [],
   "source": [
    "link = links[2]\n",
    "CommentList = []\n",
    "driver.get(link)\n",
    "title = driver.title\n",
    "print(title)\n",
    "comment_link = driver.find_element(By.CLASS_NAME,'news-comment-plugin').get_attribute('data-full-page-url')\n",
    "\n",
    "driver.get(comment_link)\n",
    "comment_link = driver.current_url\n",
    "\n",
    "driver.get(comment_link+page+'1'+older)\n",
    "iframe = driver.find_element(By.CLASS_NAME,'news-comment-plguin-iframe')\n",
    "driver.switch_to.frame(iframe)\n",
    "\n",
    "num_of_comment = driver.find_element(By.CLASS_NAME,'counter').text\n",
    "driver.switch_to.default_content()\n",
    "end_page = int(int(num_of_comment.split('/')[-1].strip('件'))/10)+1\n",
    "print(end_page)\n",
    "for num_of_comment in range(1,end_page):\n",
    "    driver.get(comment_link+page+'1'+older)\n",
    "    iframe = driver.find_element(By.CLASS_NAME,'news-comment-plguin-iframe')\n",
    "    driver.switch_to.frame(iframe)\n",
    "\n",
    "    comment_list = driver.find_element(By.ID,'comment-list-item')\n",
    "    comments = comment_list.find_elements(By.CLASS_NAME,'commentListItem')\n",
    "    for comment in comments:\n",
    "        CommentList.append(comment.find_element(By.CLASS_NAME,'cmtBody').text)\n",
    "        df = pd.Series(data=CommentList)\n",
    "        df.to_csv(title+'.csv')"
   ]
  },
  {
   "cell_type": "markdown",
   "metadata": {},
   "source": [
    "# コメント情報の取得"
   ]
  },
  {
   "cell_type": "code",
   "execution_count": null,
   "metadata": {
    "scrolled": true
   },
   "outputs": [],
   "source": [
    "df_NC = pd.read_csv(white+'/01_NewsList/'+str(dt_NL)+'.csv')\n",
    "url = df_NC['comment_url'][0]\n",
    "title = df_NC['news_title'][0]\n",
    "driver.get(url)\n",
    "print(title)\n",
    "\n",
    "#コメント情報の取得\n",
    "\n",
    "comment_boxes = []\n",
    "\n",
    "#df = pd.DataFrame(columns=['number','日付','ユーザー名','コメント','good','bad'])\n",
    "df_NC = pd.DataFrame(columns=['number','ユーザー名','コメント'])\n",
    "start = 1\n",
    "end = 200\n",
    "base_url = driver.current_url\n",
    "page_url = '?page='\n",
    "order_url = '&order=older'\n",
    "\n",
    "iframe = driver.find_element(By.CLASS_NAME,\"news-comment-plguin-iframe\")\n",
    "# driver.switch_to_frame(iframe)\n",
    "driver.switch_to.frame(iframe)\n",
    "end = driver.find_element(By.CLASS_NAME,\"pagenation\")\n",
    "pages = end.find_elements(By.CLASS_NAME,\"rapidnofollow\")\n",
    "last_page = pages[7].text\n",
    "driver.switch_to.default_content()\n",
    "print(last_page)\n",
    "for page in range(start,int(last_page)+1):\n",
    "\n",
    "    driver.get(base_url+page_url+str(page)+order_url) \n",
    "    print(driver.current_url)\n",
    "#    time.sleep(1)\n",
    "    iframe = driver.find_element(By.CLASS_NAME,\"news-comment-plguin-iframe\")\n",
    "    driver.switch_to.frame(iframe)\n",
    "\n",
    "    comment_boxes = driver.find_elements(By.CLASS_NAME,\"root\")\n",
    "    page_comment =0\n",
    "\n",
    "    for comment_box in comment_boxes:\n",
    "\n",
    "\n",
    "\n",
    "        page_comment +=1\n",
    "        comment_number = str(page)+'-'+str(page_comment)\n",
    "\n",
    "        #ユーザー名取得\n",
    "        elem_name = comment_box.find_element(By.CLASS_NAME,\"rapidnofollow\")\n",
    "        name = elem_name.text\n",
    "\n",
    "        #コメント取得\n",
    "        try:\n",
    "            elem_comment = comment_box.find_element(By.CLASS_NAME,\"cmtBody\")\n",
    "        except:\n",
    "            elem_comment = comment_box.find_element(By.CLASS_NAME,\"yjxComment\")\n",
    "\n",
    "        comment = elem_comment.text\n",
    "        comment.strip(\"\\n\")\n",
    "\n",
    "        #good数取得\n",
    "        try:\n",
    "            agree_box = comment_box.find_element(By.CLASS_NAME,\"good\")\n",
    "            elem_agree = agree_box.find_element(By.CLASS_NAME,\"userNum\")\n",
    "            agree = elem_agree.text\n",
    "        except:\n",
    "            pass\n",
    "\n",
    "        #bad数取得\n",
    "        try:\n",
    "            disagree_box = comment_box.find_element(By.CLASS_NAME,\"bad\")\n",
    "            elem_disagree = disagree_box.find_element(By.CLASS_NAME,\"userNum\")\n",
    "            disagree = elem_disagree.text\n",
    "        except:\n",
    "            pass\n",
    "        #df.loc[(page-1)*10+page_comment] = [comment_number,date, name, comment, agree, disagree]\n",
    "        df_NC.loc[(page-1)*10+page_comment] = [comment_number, name, comment]\n",
    "\n",
    "\n",
    "df_NC.to_csv(white+'/02_NewsComment/'+dt_NC+title+\".csv\")\n",
    "print(\"csv is ok\")\n",
    "driver.quit()"
   ]
  },
  {
   "cell_type": "code",
   "execution_count": null,
   "metadata": {},
   "outputs": [],
   "source": [
    "# df_NL = pd.DataFrame(columns=['news_title','comment_url'])\n",
    "\n",
    "# #ニュース記事への移動\n",
    "# for a in range(8):\n",
    "#     section = driver.find_element(By.TAG_NAME,\"section\")\n",
    "#     news_list = section.find_elements(By.TAG_NAME,\"li\")\n",
    "#     mv_news = news_list[a].click()\n",
    "#     time.sleep(0.1)\n",
    "#     news_main = driver.find_element(By.TAG_NAME,\"article\")\n",
    "#     news_title = news_main.find_elements_by_tag_name(\"p\")\n",
    "#     print(news_title[2].text)\n",
    "\n",
    "# #コメントページへの移動\n",
    "#     try:\n",
    "#         news_comment_url = driver.find_element(By.CLASS_NAME,\"news-comment-plugin\").get_attribute(\"data-full-page-url\")\n",
    "#         df_NL.loc[a] = [news_title[2].text,news_comment_url]    \n",
    "#     except:\n",
    "#         df_NL.loc[a] = [news_title[2],'This news page have no comment.']    \n",
    "#     finally:\n",
    "#         driver.get(topPage) \n",
    "\n",
    "# dt_now = datetime.datetime.now()\n",
    "# dt_NL = dt_now.strftime('%m%d_%H%M')\n",
    "# dt_NC = dt_now.strftime('%m%d%H%M')\n",
    "# df_NL.to_csv(white+'01_NewsList/'+dt_NL+'.csv')\n",
    "# print(\"csv is ok\")"
   ]
  }
 ],
 "metadata": {
  "kernelspec": {
   "display_name": "Python 3",
   "language": "python",
   "name": "python3"
  },
  "language_info": {
   "codemirror_mode": {
    "name": "ipython",
    "version": 3
   },
   "file_extension": ".py",
   "mimetype": "text/x-python",
   "name": "python",
   "nbconvert_exporter": "python",
   "pygments_lexer": "ipython3",
   "version": "3.8.8"
  }
 },
 "nbformat": 4,
 "nbformat_minor": 4
}
