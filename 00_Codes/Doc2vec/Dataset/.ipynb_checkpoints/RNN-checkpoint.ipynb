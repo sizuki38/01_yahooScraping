{
 "cells": [
  {
   "cell_type": "code",
   "execution_count": 2,
   "id": "1d1fa31d",
   "metadata": {},
   "outputs": [],
   "source": [
    "import tensorflow as tf\n",
    "import glob, os, time\n",
    "import numpy as np\n",
    "import pandas as pd"
   ]
  },
  {
   "cell_type": "code",
   "execution_count": 3,
   "id": "69398920",
   "metadata": {},
   "outputs": [],
   "source": [
    "files = glob.glob('./News_text/*')\n",
    "for i in files:\n",
    "    text = i.split()[-1].split('.csv')[0]\n",
    "    df = pd.read_csv(i)"
   ]
  },
  {
   "cell_type": "code",
   "execution_count": 4,
   "id": "bd1b9cc2",
   "metadata": {
    "scrolled": true
   },
   "outputs": [],
   "source": [
    "text = ''\n",
    "for i in df['コメント']:\n",
    "    text+=i.replace(\"\\n\",\"\")\n",
    "    text += '\\n'\n",
    "text = text.replace(\"\\u3000\",\"\")"
   ]
  },
  {
   "cell_type": "code",
   "execution_count": 5,
   "id": "5148f761",
   "metadata": {},
   "outputs": [
    {
     "name": "stdout",
     "output_type": "stream",
     "text": [
      "Length of text: 69800 characters\n"
     ]
    }
   ],
   "source": [
    "print ('Length of text: {} characters'.format(len(text)))"
   ]
  },
  {
   "cell_type": "code",
   "execution_count": 6,
   "id": "838debb8",
   "metadata": {},
   "outputs": [
    {
     "name": "stdout",
     "output_type": "stream",
     "text": [
      "1553 unique characters\n"
     ]
    }
   ],
   "source": [
    "vocab = sorted(set(text))\n",
    "print ('{} unique characters'.format(len(vocab)))"
   ]
  },
  {
   "cell_type": "code",
   "execution_count": 7,
   "id": "3ba23338",
   "metadata": {},
   "outputs": [],
   "source": [
    "# それぞれの文字からインデックスへの対応表を作成\n",
    "char2idx = {u:i for i, u in enumerate(vocab)}\n",
    "idx2char = np.array(vocab)\n",
    "\n",
    "text_as_int = np.array([char2idx[c] for c in text])"
   ]
  },
  {
   "cell_type": "code",
   "execution_count": 8,
   "id": "ea7d43d9",
   "metadata": {},
   "outputs": [
    {
     "name": "stdout",
     "output_type": "stream",
     "text": [
      "{\n",
      "  '\\n':   0,\n",
      "  ' ' :   1,\n",
      "  '!' :   2,\n",
      "  '%' :   3,\n",
      "  '&' :   4,\n",
      "  '(' :   5,\n",
      "  ')' :   6,\n",
      "  '+' :   7,\n",
      "  ',' :   8,\n",
      "  '-' :   9,\n",
      "  '.' :  10,\n",
      "  '/' :  11,\n",
      "  '0' :  12,\n",
      "  '1' :  13,\n",
      "  '2' :  14,\n",
      "  '3' :  15,\n",
      "  '4' :  16,\n",
      "  '5' :  17,\n",
      "  '6' :  18,\n",
      "  '7' :  19,\n",
      "  ...\n",
      "}\n"
     ]
    }
   ],
   "source": [
    "print('{')\n",
    "for char,_ in zip(char2idx, range(20)):\n",
    "    print('  {:4s}: {:3d},'.format(repr(char), char2idx[char]))\n",
    "print('  ...\\n}')"
   ]
  },
  {
   "cell_type": "code",
   "execution_count": 9,
   "id": "20650e9a",
   "metadata": {},
   "outputs": [
    {
     "name": "stdout",
     "output_type": "stream",
     "text": [
      "'感染者数の視点からはトレン' ---- characters mapped to int ---- > [ 695  859 1183  782  121 1267  978   87  147  122  192  226  229]\n"
     ]
    }
   ],
   "source": [
    "# テキストの最初の 13 文字がどのように整数に変換されるかを見てみる\n",
    "print ('{} ---- characters mapped to int ---- > {}'.format(repr(text[:13]), text_as_int[:13]))"
   ]
  },
  {
   "cell_type": "code",
   "execution_count": 10,
   "id": "d8911c2a",
   "metadata": {},
   "outputs": [
    {
     "name": "stdout",
     "output_type": "stream",
     "text": [
      "感\n",
      "染\n",
      "者\n",
      "数\n",
      "の\n"
     ]
    }
   ],
   "source": [
    "# ひとつの入力としたいシーケンスの文字数としての最大の長さ\n",
    "seq_length = 100\n",
    "examples_per_epoch = len(text)//(seq_length+1)\n",
    "\n",
    "# 訓練用サンプルとターゲットを作る\n",
    "char_dataset = tf.data.Dataset.from_tensor_slices(text_as_int)\n",
    "\n",
    "for i in char_dataset.take(5):\n",
    "    print(idx2char[i.numpy()])"
   ]
  },
  {
   "cell_type": "code",
   "execution_count": 11,
   "id": "f1b1a0da",
   "metadata": {},
   "outputs": [
    {
     "name": "stdout",
     "output_type": "stream",
     "text": [
      "'感染者数の視点からはトレンドが減少方向ということを含め、十分解除可能だと思われます。病床の方はどうでしょう。入院すべき人が入院できない状況がどうなっているかが気になります。\\nもうオミは無視して決めろよ。'\n",
      "'もう2回打ったし打った方が良いのなら3回目も打つし行動制限なんてもうええ加減にしろよ。\\n毎回遅いねん。２日前に決められても困るしアメリカ行く前に決めろよな…完全に解除なら、通常営業に向けて準備とかあるか'\n",
      "'ら色々困るんですけど一年以上たってまだわからないんですかね？自分らギリギリの生活した事ないからこんな事出来るんでしょうねー。\\n５０才以下のワクチン接種率が５割を超えるまで、解除しない方が良いよ。今の流れ'\n",
      "'は、４波が終わった頃と似ている。その後１か月足らずで、５波が始まったのを、もう忘れてるね。\\nまんえん防止を始めちゃうと，分科会がぐずぐずいうのと，それにまして，知事が調子に乗ってちょっと増えてきたときに'\n",
      "'国費狙いで特に何の思想もなくお金くれ責任は国に預けるよで緊急事態宣言を要請してきます（特に東京大阪はこれやる，これが現状の社会不安の原因です）。離島であることを考慮し沖縄には対策慎重になるとしても他は解'\n"
     ]
    }
   ],
   "source": [
    "sequences = char_dataset.batch(seq_length+1, drop_remainder=True)\n",
    "\n",
    "for item in sequences.take(5):\n",
    "    print(repr(''.join(idx2char[item.numpy()])))"
   ]
  },
  {
   "cell_type": "code",
   "execution_count": 12,
   "id": "81c899b9",
   "metadata": {},
   "outputs": [],
   "source": [
    "def split_input_target(chunk):\n",
    "    input_text = chunk[:-1]\n",
    "    target_text = chunk[1:]\n",
    "    return input_text, target_text\n",
    "\n",
    "dataset = sequences.map(split_input_target)"
   ]
  },
  {
   "cell_type": "code",
   "execution_count": 13,
   "id": "3a647949",
   "metadata": {},
   "outputs": [
    {
     "name": "stdout",
     "output_type": "stream",
     "text": [
      "Input data:  '感染者数の視点からはトレンドが減少方向ということを含め、十分解除可能だと思われます。病床の方はどうでしょう。入院すべき人が入院できない状況がどうなっているかが気になります。\\nもうオミは無視して決めろよ'\n",
      "Target data: '染者数の視点からはトレンドが減少方向ということを含め、十分解除可能だと思われます。病床の方はどうでしょう。入院すべき人が入院できない状況がどうなっているかが気になります。\\nもうオミは無視して決めろよ。'\n"
     ]
    }
   ],
   "source": [
    "for input_example, target_example in  dataset.take(1):\n",
    "    print ('Input data: ', repr(''.join(idx2char[input_example.numpy()])))\n",
    "    print ('Target data:', repr(''.join(idx2char[target_example.numpy()])))"
   ]
  },
  {
   "cell_type": "code",
   "execution_count": 14,
   "id": "b605fe42",
   "metadata": {},
   "outputs": [
    {
     "name": "stdout",
     "output_type": "stream",
     "text": [
      "Step    0\n",
      "  input: 695 ('感')\n",
      "  expected output: 859 ('染')\n",
      "Step    1\n",
      "  input: 859 ('染')\n",
      "  expected output: 1183 ('者')\n",
      "Step    2\n",
      "  input: 1183 ('者')\n",
      "  expected output: 782 ('数')\n",
      "Step    3\n",
      "  input: 782 ('数')\n",
      "  expected output: 121 ('の')\n",
      "Step    4\n",
      "  input: 121 ('の')\n",
      "  expected output: 1267 ('視')\n"
     ]
    }
   ],
   "source": [
    "for i, (input_idx, target_idx) in enumerate(zip(input_example[:5], target_example[:5])):\n",
    "    print(\"Step {:4d}\".format(i))\n",
    "    print(\"  input: {} ({:s})\".format(input_idx, repr(idx2char[input_idx])))\n",
    "    print(\"  expected output: {} ({:s})\".format(target_idx, repr(idx2char[target_idx])))"
   ]
  },
  {
   "cell_type": "code",
   "execution_count": 15,
   "id": "57d807f0",
   "metadata": {},
   "outputs": [
    {
     "data": {
      "text/plain": [
       "<BatchDataset shapes: ((64, 100), (64, 100)), types: (tf.int64, tf.int64)>"
      ]
     },
     "execution_count": 15,
     "metadata": {},
     "output_type": "execute_result"
    }
   ],
   "source": [
    "# バッチサイズ\n",
    "BATCH_SIZE = 64\n",
    "\n",
    "# データセットをシャッフルするためのバッファサイズ\n",
    "# （TF data は可能性として無限長のシーケンスでも使えるように設計されています。\n",
    "# このため、シーケンス全体をメモリ内でシャッフルしようとはしません。\n",
    "# その代わりに、要素をシャッフルするためのバッファを保持しています）\n",
    "BUFFER_SIZE = 10000\n",
    "\n",
    "dataset = dataset.shuffle(BUFFER_SIZE).batch(BATCH_SIZE, drop_remainder=True)\n",
    "\n",
    "dataset"
   ]
  },
  {
   "cell_type": "code",
   "execution_count": 16,
   "id": "e2316626",
   "metadata": {},
   "outputs": [],
   "source": [
    "# 文字数で表されるボキャブラリーの長さ\n",
    "vocab_size = len(vocab)\n",
    "\n",
    "# 埋め込みベクトルの次元\n",
    "embedding_dim = 256\n",
    "\n",
    "# RNN ユニットの数\n",
    "rnn_units = 1024"
   ]
  },
  {
   "cell_type": "code",
   "execution_count": 17,
   "id": "f254a249",
   "metadata": {},
   "outputs": [],
   "source": [
    "def build_model(vocab_size, embedding_dim, rnn_units, batch_size):\n",
    "    model = tf.keras.Sequential(\n",
    "        [tf.keras.layers.Embedding(vocab_size,\n",
    "                                   embedding_dim,\n",
    "                                   batch_input_shape=[batch_size, None]),\n",
    "         tf.keras.layers.GRU(rnn_units,\n",
    "                             return_sequences=True,\n",
    "                             stateful=True,\n",
    "                             recurrent_initializer='glorot_uniform'),\n",
    "         tf.keras.layers.Dense(vocab_size)\n",
    "        ])\n",
    "    return model"
   ]
  },
  {
   "cell_type": "code",
   "execution_count": 18,
   "id": "75332156",
   "metadata": {},
   "outputs": [],
   "source": [
    "model = build_model(\n",
    "  vocab_size = len(vocab),\n",
    "  embedding_dim=embedding_dim,\n",
    "  rnn_units=rnn_units,\n",
    "  batch_size=BATCH_SIZE)"
   ]
  },
  {
   "cell_type": "code",
   "execution_count": 19,
   "id": "c5bd3096",
   "metadata": {},
   "outputs": [
    {
     "name": "stdout",
     "output_type": "stream",
     "text": [
      "(64, 100, 1553) # (batch_size, sequence_length, vocab_size)\n"
     ]
    }
   ],
   "source": [
    "for input_example_batch, target_example_batch in dataset.take(1):\n",
    "    example_batch_predictions = model(input_example_batch)\n",
    "    print(example_batch_predictions.shape, \"# (batch_size, sequence_length, vocab_size)\")"
   ]
  },
  {
   "cell_type": "code",
   "execution_count": 20,
   "id": "47d4f6f9",
   "metadata": {},
   "outputs": [
    {
     "name": "stdout",
     "output_type": "stream",
     "text": [
      "Model: \"sequential\"\n",
      "_________________________________________________________________\n",
      " Layer (type)                Output Shape              Param #   \n",
      "=================================================================\n",
      " embedding (Embedding)       (64, None, 256)           397568    \n",
      "                                                                 \n",
      " gru (GRU)                   (64, None, 1024)          3938304   \n",
      "                                                                 \n",
      " dense (Dense)               (64, None, 1553)          1591825   \n",
      "                                                                 \n",
      "=================================================================\n",
      "Total params: 5,927,697\n",
      "Trainable params: 5,927,697\n",
      "Non-trainable params: 0\n",
      "_________________________________________________________________\n"
     ]
    }
   ],
   "source": [
    "model.summary()"
   ]
  },
  {
   "cell_type": "code",
   "execution_count": 21,
   "id": "7f156536",
   "metadata": {},
   "outputs": [],
   "source": [
    "sampled_indices = tf.random.categorical(example_batch_predictions[0], num_samples=1)\n",
    "sampled_indices = tf.squeeze(sampled_indices,axis=-1).numpy()"
   ]
  },
  {
   "cell_type": "code",
   "execution_count": 22,
   "id": "0b30f22c",
   "metadata": {},
   "outputs": [
    {
     "data": {
      "text/plain": [
       "array([ 793,  905, 1156,  688,  525,    8,  405, 1464,  586,  504, 1139,\n",
       "        680, 1017, 1416, 1452, 1371, 1158, 1249, 1470,  597, 1170,  922,\n",
       "          6,   57,  630,  935,  872,  930,  437,  344,  772, 1427, 1550,\n",
       "       1140,  611,  138,  994, 1231,  735,  471,  637,  563,  312,  357,\n",
       "        412,  254, 1448,  789, 1252,  784, 1240,  966, 1304,  527, 1399,\n",
       "       1328,  640, 1423,  256,  494,  470,  312, 1155, 1101, 1068,  630,\n",
       "       1030, 1050, 1190,  260,   50,  953, 1204,  197,  782,  722,  459,\n",
       "         67,  457,  711,  368, 1198, 1502,  766,  450,  102,    1,  446,\n",
       "       1104, 1143, 1207,  160, 1104,  721,  948, 1334,  580, 1374, 1469,\n",
       "       1364])"
      ]
     },
     "execution_count": 22,
     "metadata": {},
     "output_type": "execute_result"
    }
   ],
   "source": [
    "sampled_indices"
   ]
  },
  {
   "cell_type": "code",
   "execution_count": 23,
   "id": "4222ac88",
   "metadata": {},
   "outputs": [
    {
     "name": "stdout",
     "output_type": "stream",
     "text": [
      "Input: \n",
      " '跡も検査もしようとしない。検査してくれと頼んでも、体調に変化ないなら検査不要という始末。もちろん自分で民間施設で検査して陽性になった人もカウントされない。意図的に数を少なく見せておいて、7月初旬いらい'\n",
      "\n",
      "Next Char Predictions: \n",
      " '施比緒情奈,化面屈塵組恣生銀隠退締表頃巡罪河)w康派森泥叫光改開､経幌む牛菅招喜引家倉写卒乗隔斬裁敵薬漫論奨避資強鑑乱埋喋倉総立示康疑盛肝争l温脳ノ数承命⇒味戯初胡骨撤否ず 同競絡臆ウ競批添起尚逆頂近'\n"
     ]
    }
   ],
   "source": [
    "print(\"Input: \\n\", repr(\"\".join(idx2char[input_example_batch[0]])))\n",
    "print()\n",
    "print(\"Next Char Predictions: \\n\", repr(\"\".join(idx2char[sampled_indices ])))"
   ]
  },
  {
   "cell_type": "code",
   "execution_count": 24,
   "id": "edce90e1",
   "metadata": {},
   "outputs": [
    {
     "name": "stdout",
     "output_type": "stream",
     "text": [
      "Prediction shape:  (64, 100, 1553)  # (batch_size, sequence_length, vocab_size)\n",
      "scalar_loss:       7.3477798\n"
     ]
    }
   ],
   "source": [
    "def loss(labels, logits):\n",
    "    return tf.keras.losses.sparse_categorical_crossentropy(labels, logits, from_logits=True)\n",
    "\n",
    "example_batch_loss  = loss(target_example_batch, example_batch_predictions)\n",
    "print(\"Prediction shape: \", example_batch_predictions.shape, \" # (batch_size, sequence_length, vocab_size)\")\n",
    "print(\"scalar_loss:      \", example_batch_loss.numpy().mean())"
   ]
  },
  {
   "cell_type": "code",
   "execution_count": 25,
   "id": "458ff296",
   "metadata": {},
   "outputs": [],
   "source": [
    "model.compile(optimizer='adam', loss=loss)"
   ]
  },
  {
   "cell_type": "code",
   "execution_count": 26,
   "id": "42da0ae0",
   "metadata": {},
   "outputs": [],
   "source": [
    "# チェックポイントが保存されるディレクトリ\n",
    "checkpoint_dir = './training_checkpoints'\n",
    "# チェックポイントファイルの名称\n",
    "checkpoint_prefix = os.path.join(checkpoint_dir, \"ckpt_{epoch}\")\n",
    "\n",
    "checkpoint_callback=tf.keras.callbacks.ModelCheckpoint(\n",
    "    filepath=checkpoint_prefix,\n",
    "    save_weights_only=True)"
   ]
  },
  {
   "cell_type": "code",
   "execution_count": 28,
   "id": "dd33cc67",
   "metadata": {},
   "outputs": [],
   "source": [
    "EPOCHS=10"
   ]
  },
  {
   "cell_type": "code",
   "execution_count": 30,
   "id": "82700d3f",
   "metadata": {},
   "outputs": [
    {
     "name": "stdout",
     "output_type": "stream",
     "text": [
      "Epoch 1/10\n",
      "10/10 [==============================] - 7s 563ms/step - loss: 6.4771\n",
      "Epoch 2/10\n",
      "10/10 [==============================] - 6s 559ms/step - loss: 5.4480\n",
      "Epoch 3/10\n",
      "10/10 [==============================] - 6s 561ms/step - loss: 5.3391\n",
      "Epoch 4/10\n",
      "10/10 [==============================] - 6s 561ms/step - loss: 5.1718\n",
      "Epoch 5/10\n",
      "10/10 [==============================] - 6s 561ms/step - loss: 4.9400\n",
      "Epoch 6/10\n",
      "10/10 [==============================] - 6s 567ms/step - loss: 4.6777\n",
      "Epoch 7/10\n",
      "10/10 [==============================] - 6s 566ms/step - loss: 4.3979\n",
      "Epoch 8/10\n",
      "10/10 [==============================] - 6s 558ms/step - loss: 4.2191\n",
      "Epoch 9/10\n",
      "10/10 [==============================] - 6s 561ms/step - loss: 4.1236\n",
      "Epoch 10/10\n",
      "10/10 [==============================] - 6s 558ms/step - loss: 3.9552\n"
     ]
    }
   ],
   "source": [
    "history = model.fit(dataset, epochs=EPOCHS, callbacks=[checkpoint_callback])"
   ]
  },
  {
   "cell_type": "code",
   "execution_count": 31,
   "id": "dde78652",
   "metadata": {},
   "outputs": [
    {
     "data": {
      "text/plain": [
       "'./training_checkpoints/ckpt_10'"
      ]
     },
     "execution_count": 31,
     "metadata": {},
     "output_type": "execute_result"
    }
   ],
   "source": [
    "tf.train.latest_checkpoint(checkpoint_dir)"
   ]
  },
  {
   "cell_type": "code",
   "execution_count": null,
   "id": "b50de10f",
   "metadata": {},
   "outputs": [],
   "source": [
    "model = build_model(vocab_size, embedding_dim, rnn_units, batch_size=1)\n",
    "\n",
    "model.load_weights(tf.train.latest_checkpoint(checkpoint_dir))\n",
    "\n",
    "model.build(tf.TensorShape([1, None]))\n",
    "model.summary()"
   ]
  },
  {
   "cell_type": "code",
   "execution_count": null,
   "id": "143c865a",
   "metadata": {},
   "outputs": [],
   "source": [
    "def generate_text(model, start_string):\n",
    "  # 評価ステップ（学習済みモデルを使ったテキスト生成）\n",
    "\n",
    "  # 生成する文字数\n",
    "    num_generate = 1000\n",
    "\n",
    "  # 開始文字列を数値に変換（ベクトル化）\n",
    "    input_eval = [char2idx[s] for s in start_string]\n",
    "    input_eval = tf.expand_dims(input_eval, 0)\n",
    "\n",
    "  # 結果を保存する空文字列\n",
    "    text_generated = []\n",
    "\n",
    "  # 低い temperature　は、より予測しやすいテキストをもたらし\n",
    "  # 高い temperature は、より意外なテキストをもたらす\n",
    "  # 実験により最適な設定を見つけること\n",
    "    temperature = 1.0\n",
    "\n",
    "  # ここではバッチサイズ　== 1\n",
    "    model.reset_states()\n",
    "    for i in range(num_generate):\n",
    "        predictions = model(input_eval)\n",
    "      # バッチの次元を削除\n",
    "        predictions = tf.squeeze(predictions, 0)\n",
    "\n",
    "      # カテゴリー分布をつかってモデルから返された文字を予測 \n",
    "        predictions = predictions / temperature\n",
    "        predicted_id = tf.random.categorical(predictions, num_samples=1)[-1,0].numpy()\n",
    "\n",
    "      # 過去の隠れ状態とともに予測された文字をモデルへのつぎの入力として渡す\n",
    "        input_eval = tf.expand_dims([predicted_id], 0)\n",
    "\n",
    "        text_generated.append(idx2char[predicted_id])\n",
    "\n",
    "    return (start_string + ''.join(text_generated))"
   ]
  },
  {
   "cell_type": "code",
   "execution_count": null,
   "id": "1018efae",
   "metadata": {},
   "outputs": [],
   "source": [
    "print(generate_text(model, start_string=u\"ROMEO: \"))"
   ]
  },
  {
   "cell_type": "code",
   "execution_count": null,
   "id": "8e1aca56",
   "metadata": {},
   "outputs": [],
   "source": []
  }
 ],
 "metadata": {
  "kernelspec": {
   "display_name": "Python 3",
   "language": "python",
   "name": "python3"
  },
  "language_info": {
   "codemirror_mode": {
    "name": "ipython",
    "version": 3
   },
   "file_extension": ".py",
   "mimetype": "text/x-python",
   "name": "python",
   "nbconvert_exporter": "python",
   "pygments_lexer": "ipython3",
   "version": "3.8.8"
  }
 },
 "nbformat": 4,
 "nbformat_minor": 5
}
