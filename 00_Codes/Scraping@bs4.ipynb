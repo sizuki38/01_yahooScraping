{
 "cells": [
  {
   "cell_type": "code",
   "execution_count": 1,
   "id": "3fe7b735",
   "metadata": {},
   "outputs": [],
   "source": [
    "from bs4 import BeautifulSoup\n",
    "import requests\n",
    "\n",
    "import pandas as pd\n",
    "import datetime\n",
    "\n",
    "import glob\n",
    "white = '/home/ichikawa17/01_yahooScraping/'\n",
    "\n",
    "import re"
   ]
  },
  {
   "cell_type": "code",
   "execution_count": 2,
   "id": "491e81bb",
   "metadata": {},
   "outputs": [],
   "source": [
    "def get_page_source(url):\n",
    "    response = requests.get(url)\n",
    "    soup = BeautifulSoup(response.content,'html.parser')\n",
    "    response.close()\n",
    "    return soup\n",
    "\n",
    "def titles(newsFeed):\n",
    "    newsFeed_item_title = newsFeed.find_all('div', class_='newsFeed_item_title')\n",
    "    titles = []\n",
    "    for i in newsFeed_item_title[:10]:\n",
    "        titles.append(i.text.replace('\\u3000', ''))\n",
    "    return titles\n",
    "\n",
    "def links(newsFeed):\n",
    "    newsFeed_item_link = newsFeed.find_all('a', class_='newsFeed_item_link')\n",
    "    links = []\n",
    "    for i in newsFeed_item_link[:10]:\n",
    "        links.append(str(i).split('\"')[5])\n",
    "    return links\n",
    "\n",
    "def df(titles,links):\n",
    "    dt_now = datetime.datetime.now()\n",
    "    df = pd.DataFrame(columns=['title','url'])\n",
    "    for i in zip(titles,links):\n",
    "        series = pd.Series(i, index=df.columns)\n",
    "        df = df.append(series,ignore_index=True)\n",
    "    df.to_csv(white+'01_NewsList/'+dt_now.strftime('%m%d_%H')+'newslists.csv')\n",
    "    return df"
   ]
  },
  {
   "cell_type": "code",
   "execution_count": 3,
   "id": "851ea5aa",
   "metadata": {},
   "outputs": [
    {
     "name": "stdout",
     "output_type": "stream",
     "text": [
      "                                               title  \\\n",
      "0               【山口】４６３０万円誤振込問題決済代行業者が３５００万円余を阿武町に返還   \n",
      "1             【速報】日米首脳共同会見バイデン大統領日本の国連「常任理事国」入り支持を表明   \n",
      "2                     木村拓哉『未来への10カウント』最終回繰り上げ、９話で終了へ   \n",
      "3                 日本人のマスク着用率の高さは、意地悪な性格の裏返し？スパイト行動とは   \n",
      "4                            林外相、北朝鮮コロナに支援必要「放っておけず」   \n",
      "5                伸びるくら寿司、伸び悩むスシロー。回転寿司2強時代、勝つのはどちらか？   \n",
      "6    高畑裕太、２８歳最新ショットが「カッコいい」と反響！騒動後に遺品整理職→介護職３年勤務が話題に   \n",
      "7                        大統領「日本防衛に全面関与」日米首脳会談、核抑止強化へ   \n",
      "8  全財産9000万円預け、返ってきたのは「利息」70万円だけ70代女性「何度も死のうと…」 Ｊ...   \n",
      "9             ４６３０万円誤給付、男が出金した「決済代行業者」から町口座へ３５９０万円返金   \n",
      "\n",
      "                                                 url  \n",
      "0  https://news.yahoo.co.jp/articles/637cdd17f1d3...  \n",
      "1  https://news.yahoo.co.jp/articles/eaf80ef40b7c...  \n",
      "2  https://news.yahoo.co.jp/articles/3d03e6e74354...  \n",
      "3  https://news.yahoo.co.jp/articles/23b37949e827...  \n",
      "4  https://news.yahoo.co.jp/articles/94b0b4738efb...  \n",
      "5  https://news.yahoo.co.jp/articles/40a3d6b2cfee...  \n",
      "6  https://news.yahoo.co.jp/articles/1c6342028205...  \n",
      "7  https://news.yahoo.co.jp/articles/5184f6925761...  \n",
      "8  https://news.yahoo.co.jp/articles/9021d094a729...  \n",
      "9  https://news.yahoo.co.jp/articles/56e26ac00fa1...  \n"
     ]
    }
   ],
   "source": [
    "top_page = \"https://news.yahoo.co.jp/ranking/comment\"\n",
    "soup = get_page_source(top_page)\n",
    "newsFeed=soup.find('div',class_ = 'newsFeed')\n",
    "df_news_list = df(titles(newsFeed),links(newsFeed))\n",
    "print(df_news_list)"
   ]
  },
  {
   "cell_type": "code",
   "execution_count": 368,
   "id": "a3d537f9",
   "metadata": {},
   "outputs": [
    {
     "data": {
      "text/plain": [
       "<!-- // error: robot request. code:103 -->\n",
       "<!-- pvtag0904.data.ssk.ynwp.yahoo.co.jp Fri Nov 19 13:00:54 JST 2021 -->"
      ]
     },
     "execution_count": 368,
     "metadata": {},
     "output_type": "execute_result"
    }
   ],
   "source": [
    "soup = get_page_source(df_news_list['url'][0])\n",
    "inner_content = requests.get(soup.find('iframe')['src'])\n"
   ]
  },
  {
   "cell_type": "code",
   "execution_count": 342,
   "id": "f2574a24",
   "metadata": {},
   "outputs": [
    {
     "name": "stdout",
     "output_type": "stream",
     "text": [
      "['/home/ichikawa17/01_yahooScraping/01_NewsList/1109_15newslists.csv', '/home/ichikawa17/01_yahooScraping/01_NewsList/1109_16newslists.csv', '/home/ichikawa17/01_yahooScraping/01_NewsList/1110_10newslists.csv', '/home/ichikawa17/01_yahooScraping/01_NewsList/1119_11newslists.csv']\n"
     ]
    },
    {
     "data": {
      "text/html": [
       "<div>\n",
       "<style scoped>\n",
       "    .dataframe tbody tr th:only-of-type {\n",
       "        vertical-align: middle;\n",
       "    }\n",
       "\n",
       "    .dataframe tbody tr th {\n",
       "        vertical-align: top;\n",
       "    }\n",
       "\n",
       "    .dataframe thead th {\n",
       "        text-align: right;\n",
       "    }\n",
       "</style>\n",
       "<table border=\"1\" class=\"dataframe\">\n",
       "  <thead>\n",
       "    <tr style=\"text-align: right;\">\n",
       "      <th></th>\n",
       "      <th>Unnamed: 0</th>\n",
       "      <th>title</th>\n",
       "      <th>url</th>\n",
       "    </tr>\n",
       "  </thead>\n",
       "  <tbody>\n",
       "    <tr>\n",
       "      <th>0</th>\n",
       "      <td>0</td>\n",
       "      <td>【速報】大谷翔平 “満票”で最高栄誉のMVP獲得 イチローさん以来日本人2人目の快挙で今オフ8冠に</td>\n",
       "      <td>https://news.yahoo.co.jp/articles/6d00682ffabe...</td>\n",
       "    </tr>\n",
       "    <tr>\n",
       "      <th>1</th>\n",
       "      <td>1</td>\n",
       "      <td>悠仁さま佳子さまも姉夫妻を全面支援…懸念される“小室さん問題”の影響</td>\n",
       "      <td>https://news.yahoo.co.jp/articles/188d05bb1e20...</td>\n",
       "    </tr>\n",
       "    <tr>\n",
       "      <th>2</th>\n",
       "      <td>2</td>\n",
       "      <td>元婚約者がすべてを告白！「私が小室家と対峙した２年４ヵ月」</td>\n",
       "      <td>https://news.yahoo.co.jp/articles/7837f6c9e3ac...</td>\n",
       "    </tr>\n",
       "    <tr>\n",
       "      <th>3</th>\n",
       "      <td>3</td>\n",
       "      <td>小室眞子さん「年収1500万円報道」で注目、美術館学芸員。なぜアメリカでは人気の職業なのか</td>\n",
       "      <td>https://news.yahoo.co.jp/articles/fb5eaa6f10e2...</td>\n",
       "    </tr>\n",
       "    <tr>\n",
       "      <th>4</th>\n",
       "      <td>4</td>\n",
       "      <td>「不公平だ」声止まず“10万円給付”あす閣議決定</td>\n",
       "      <td>https://news.yahoo.co.jp/articles/644fbfe1c778...</td>\n",
       "    </tr>\n",
       "    <tr>\n",
       "      <th>5</th>\n",
       "      <td>5</td>\n",
       "      <td>新庄剛志監督に「OBはみんな嫌な気分になっている」清原和博氏が不快感露わ...エールから一転</td>\n",
       "      <td>https://news.yahoo.co.jp/articles/28ab9a2a1d09...</td>\n",
       "    </tr>\n",
       "    <tr>\n",
       "      <th>6</th>\n",
       "      <td>6</td>\n",
       "      <td>みずほ銀、頭取も引責辞任へ親会社社長含め経営刷新</td>\n",
       "      <td>https://news.yahoo.co.jp/articles/5e4aded6c6eb...</td>\n",
       "    </tr>\n",
       "    <tr>\n",
       "      <th>7</th>\n",
       "      <td>7</td>\n",
       "      <td>小室圭さん母の元婚約者に解決金409万3000円“きっちり”振込完了、トラブルの利子一切なし</td>\n",
       "      <td>https://news.yahoo.co.jp/articles/b759013d234b...</td>\n",
       "    </tr>\n",
       "    <tr>\n",
       "      <th>8</th>\n",
       "      <td>8</td>\n",
       "      <td>北京五輪対応は日本の立場で考えると首相</td>\n",
       "      <td>https://news.yahoo.co.jp/articles/8276c41b99c4...</td>\n",
       "    </tr>\n",
       "    <tr>\n",
       "      <th>9</th>\n",
       "      <td>9</td>\n",
       "      <td>カズレーザー18歳以下10万円相当給付「住民税非課税世帯、ワーキングプアな人への給付を優先すべき」</td>\n",
       "      <td>https://news.yahoo.co.jp/articles/af96facefe78...</td>\n",
       "    </tr>\n",
       "  </tbody>\n",
       "</table>\n",
       "</div>"
      ],
      "text/plain": [
       "   Unnamed: 0                                              title  \\\n",
       "0           0  【速報】大谷翔平 “満票”で最高栄誉のMVP獲得 イチローさん以来日本人2人目の快挙で今オフ8冠に   \n",
       "1           1                 悠仁さま佳子さまも姉夫妻を全面支援…懸念される“小室さん問題”の影響   \n",
       "2           2                      元婚約者がすべてを告白！「私が小室家と対峙した２年４ヵ月」   \n",
       "3           3      小室眞子さん「年収1500万円報道」で注目、美術館学芸員。なぜアメリカでは人気の職業なのか   \n",
       "4           4                           「不公平だ」声止まず“10万円給付”あす閣議決定   \n",
       "5           5     新庄剛志監督に「OBはみんな嫌な気分になっている」清原和博氏が不快感露わ...エールから一転   \n",
       "6           6                           みずほ銀、頭取も引責辞任へ親会社社長含め経営刷新   \n",
       "7           7     小室圭さん母の元婚約者に解決金409万3000円“きっちり”振込完了、トラブルの利子一切なし   \n",
       "8           8                                北京五輪対応は日本の立場で考えると首相   \n",
       "9           9  カズレーザー18歳以下10万円相当給付「住民税非課税世帯、ワーキングプアな人への給付を優先すべき」   \n",
       "\n",
       "                                                 url  \n",
       "0  https://news.yahoo.co.jp/articles/6d00682ffabe...  \n",
       "1  https://news.yahoo.co.jp/articles/188d05bb1e20...  \n",
       "2  https://news.yahoo.co.jp/articles/7837f6c9e3ac...  \n",
       "3  https://news.yahoo.co.jp/articles/fb5eaa6f10e2...  \n",
       "4  https://news.yahoo.co.jp/articles/644fbfe1c778...  \n",
       "5  https://news.yahoo.co.jp/articles/28ab9a2a1d09...  \n",
       "6  https://news.yahoo.co.jp/articles/5e4aded6c6eb...  \n",
       "7  https://news.yahoo.co.jp/articles/b759013d234b...  \n",
       "8  https://news.yahoo.co.jp/articles/8276c41b99c4...  \n",
       "9  https://news.yahoo.co.jp/articles/af96facefe78...  "
      ]
     },
     "execution_count": 342,
     "metadata": {},
     "output_type": "execute_result"
    }
   ],
   "source": [
    "files = glob.glob(white+'01_NewsList/*newslists.csv')\n",
    "print(sorted(files))\n",
    "df = pd.read_csv(sorted(files)[-1])\n",
    "df"
   ]
  },
  {
   "cell_type": "code",
   "execution_count": 347,
   "id": "d4f79cb1",
   "metadata": {
    "scrolled": true
   },
   "outputs": [
    {
     "data": {
      "text/plain": [
       "'自民、公明両党は9日、新型コロナウイルス感染拡大を踏まえた経済対策をめぐり、18歳以下に10万円相当を給付することで大筋合意した。\\n\\n\\n\\n年内をめどに5万円の現金、来年春までに5万円相当のクーポンを配る。自民党は年収960万円の所得制限を設けるよう主張。公明党は持ち帰ったが、所得制限自体は受け入れる方向だ。\\n\\n自民党の茂木敏充、公明党の石井啓一両幹事長が9日、国会内で前日に続き会談。自民党が衆院選で掲げた生活困窮者支援に関し、18歳以下への給付とは別に、住民税非課税世帯を対象に10万円を給付することでも一致した。一時的な生活資金を提供する「緊急小口資金」や、学生らを対象にした住居費支援も行う。'"
      ]
     },
     "execution_count": 347,
     "metadata": {},
     "output_type": "execute_result"
    }
   ],
   "source": [
    "response = request.urlopen('https://news.yahoo.co.jp/articles/c832dfdcbd2b1ee91a9422275c1162354ab6c0a9')\n",
    "soup = BeautifulSoup(response)\n",
    "response.close()\n",
    "a = soup.find('div',class_='sc-bGbJRg')\n",
    "b = a.find_all('p')\n",
    "c = b[1].find('a')\n",
    "b = b[1].text.replace(c.text,\"\")\n",
    "# (b.text).replace(c,\"\").replace('\\u3000','').replace('\\n','')\n",
    "b.replace('\\u3000','')\n"
   ]
  },
  {
   "cell_type": "code",
   "execution_count": null,
   "id": "22921639",
   "metadata": {},
   "outputs": [],
   "source": []
  }
 ],
 "metadata": {
  "kernelspec": {
   "display_name": "Python 3",
   "language": "python",
   "name": "python3"
  },
  "language_info": {
   "codemirror_mode": {
    "name": "ipython",
    "version": 3
   },
   "file_extension": ".py",
   "mimetype": "text/x-python",
   "name": "python",
   "nbconvert_exporter": "python",
   "pygments_lexer": "ipython3",
   "version": "3.8.8"
  }
 },
 "nbformat": 4,
 "nbformat_minor": 5
}
