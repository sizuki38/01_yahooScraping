{
 "cells": [
  {
   "cell_type": "code",
   "execution_count": 1,
   "metadata": {},
   "outputs": [],
   "source": [
    "import pandas as pd\n",
    "df = pd.read_csv('「ワクチン接種に全力尽くす」　河野氏が会見で抱負　輸送や会場設定など担当.csv',encoding=\"utf_8\")"
   ]
  },
  {
   "cell_type": "code",
   "execution_count": 2,
   "metadata": {},
   "outputs": [],
   "source": [
    "df = df['コメント']"
   ]
  },
  {
   "cell_type": "code",
   "execution_count": 5,
   "metadata": {},
   "outputs": [],
   "source": [
    "df.to_csv('a.csv')"
   ]
  },
  {
   "cell_type": "code",
   "execution_count": 3,
   "metadata": {},
   "outputs": [
    {
     "data": {
      "text/plain": [
       "0                                     ハンコ以上のスピード感に期待したい。\n",
       "1               ゲイツのワクチンプログラム\\nトランプ大統領が武漢ウイルスの機密情報解除か・・・\n",
       "2                                           行政改革に使う力はゼロ。\n",
       "3      上手く行けば、任命したガースーの手柄。\\n失敗したら、河野の責任。\\n正に、どちらに転んでも...\n",
       "4      いろいろ政府批判ばかりのマスコミだが、新型コロナはワクチン接種→治療薬の開発がなされなければ...\n",
       "                             ...                        \n",
       "295    ワクチンの有効性とかスピードはわかりませんが\\n省庁横断なら\\n官房長官が適任ては？\\n\\n...\n",
       "296    日本はワクチン遅い！先進国やで！\\nインドネシアの方が早いやん！\\nまあ、インドネシアは中国...\n",
       "297    彼が適任かどうかは\\n政治家でないので内部事情は分からないけど\\nいち国民の目で見ると\\nこ...\n",
       "298                       菅さんがちょっと頼りないから、スピーディーに頼むよ河野さん。\n",
       "299    もう変異していってるから、最初は効いたような感じでへっていくが　すぐに増えていく。\\n無駄と...\n",
       "Name: コメント, Length: 300, dtype: object"
      ]
     },
     "execution_count": 3,
     "metadata": {},
     "output_type": "execute_result"
    }
   ],
   "source": [
    "df"
   ]
  }
 ],
 "metadata": {
  "kernelspec": {
   "display_name": "Python 3",
   "language": "python",
   "name": "python3"
  },
  "language_info": {
   "codemirror_mode": {
    "name": "ipython",
    "version": 3
   },
   "file_extension": ".py",
   "mimetype": "text/x-python",
   "name": "python",
   "nbconvert_exporter": "python",
   "pygments_lexer": "ipython3",
   "version": "3.8.5"
  }
 },
 "nbformat": 4,
 "nbformat_minor": 4
}
