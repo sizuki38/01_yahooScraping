{
 "cells": [
  {
   "cell_type": "code",
   "execution_count": 4,
   "id": "179a8215",
   "metadata": {},
   "outputs": [
    {
     "name": "stdout",
     "output_type": "stream",
     "text": [
      "<_io.BufferedReader name='data/07-03/総合/comments/「謝って済む話じゃない」怒る客 通常の4倍来店も au通信障害.pkl'>\n",
      "['まあ技術的な事を営業であるお店に詰め寄っても問題は解決しない。ただ文句言いたいだけで終わってしまう。ここは冷静に障害期間中の1時間当たりの通信費をぽん太ポイントで還元する様に誓約書を作成してもらいましょう。\\n\\n\\n\\n\\nここは冷静に通信障害期間の一時間当たりの金額をぽん太ポイントで還元する様に誓約書を作ってもらいましょう。', 'ショップ店員さんに怒っても何も解決しませんよ。\\n端末売ってるだけなんだから。\\n分別を持ちましょう。', 'コンビニでスマホアプリで支払いしようとしてもつながらなかった理由はこれか。家のwifiもauひかりに変えたので、つながらないことがあった理由がこれで分かった。そろそろ3年、ドコモに変えようかな。', '週刊誌の記事かと思ったら、天下の毎日新聞の記事か、\\n記事そのものが悪質なクレーマーだな', '私も電話が繋がらなかったので、最初は「どした」と思ったけど、\\nラインで速攻解決でした。\\nライブとかの電子チケットなんかは大変だったでしょうが、「謝って済む話じゃない」とか、、そんなこと言う人は意外と料金滞納してたりするのかな。', 'サイバー攻撃じゃないよね…いくら何でも影響大きすぎて…携帯使えないのがこれほど不便とは…', '今まで、通信障害まだ恢復していない、不便だ。', '便利なものにはリスクが付きものって、昔から言われてるでしょ。楽しいことにも、危険は付きもの。だからリスクマネジメントが必要なんですよ。大企業信用して？安い通話通信料金選んでだろ?それともアナログ続ける?', 'KDDIは以前にも顧客が欲しい為過剰な金をばら撒いたか何かで問題ありましたよね\\u3000キャンペーンとかだともの凄い金額提示してましたね\\u3000逆に怪しく感じ契約するの怖くなりましたが結果持たなくて良かったと思ってます。今後また何あるかわからないので良く考えて携帯会社選びしないといけませんね', 'ショップに怒鳴り込んでも意味がないことぐらいわからないのかな?']\n"
     ]
    }
   ],
   "source": [
    "from cmath import pi\n",
    "from glob import glob\n",
    "import os, pickle\n",
    "\n",
    "with open(glob('data/07-03/総合/comments/*')[0],\"rb\") as f:\n",
    "    print(f)\n",
    "    print(pickle.load(f))\n",
    "\n",
    "# for path in glob('data/*/*/'):\n",
    "#     comments = glob(f'{path}comments/*')\n",
    "#     NLA_data = glob(f'{path}NLA_data/*')\n",
    "#     comments = [os.path.basename(comment) for comment in comments]\n",
    "#     NLA_data = [os.path.basename(NLA_data) for NLA_data in NLA_data]\n",
    "#     for i in range(len(comments)):\n",
    "#         print(comments[i])\n",
    "#         if comments[i] in os.path.basename(NLA_data):\n",
    "#             print('A')\n",
    "        "
   ]
  }
 ],
 "metadata": {
  "kernelspec": {
   "display_name": "Python 3.8.8 ('base')",
   "language": "python",
   "name": "python3"
  },
  "language_info": {
   "codemirror_mode": {
    "name": "ipython",
    "version": 3
   },
   "file_extension": ".py",
   "mimetype": "text/x-python",
   "name": "python",
   "nbconvert_exporter": "python",
   "pygments_lexer": "ipython3",
   "version": "3.8.8"
  },
  "vscode": {
   "interpreter": {
    "hash": "c5a39358de97ef033a5caae86453ad7ab814aecb082ec775b627b732dfedebc7"
   }
  }
 },
 "nbformat": 4,
 "nbformat_minor": 5
}
