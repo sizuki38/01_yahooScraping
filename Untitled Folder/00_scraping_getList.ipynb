{
 "cells": [
  {
   "cell_type": "code",
   "execution_count": 1,
   "id": "7ee92355",
   "metadata": {},
   "outputs": [],
   "source": [
    "from datetime import datetime\n",
    "import pandas as pd, os, pickle, time, schedule, re"
   ]
  },
  {
   "cell_type": "code",
   "execution_count": 2,
   "id": "0b742825",
   "metadata": {
    "scrolled": false
   },
   "outputs": [
    {
     "name": "stdout",
     "output_type": "stream",
     "text": [
      "\n"
     ]
    },
    {
     "name": "stderr",
     "output_type": "stream",
     "text": [
      "[WDM] - ====== WebDriver manager ======\n",
      "[WDM] - Current google-chrome version is 96.0.4664\n",
      "[WDM] - Get LATEST chromedriver version for 96.0.4664 google-chrome\n",
      "[WDM] - Driver [/home/ichikawa17/.wdm/drivers/chromedriver/linux64/96.0.4664.45/chromedriver] found in cache\n",
      "<ipython-input-2-a271751efbce>:7: DeprecationWarning: executable_path has been deprecated, please pass in a Service object\n",
      "  driver = webdriver.Chrome(ChromeDriverManager().install(), options=options)\n"
     ]
    }
   ],
   "source": [
    "from selenium import webdriver\n",
    "from webdriver_manager.chrome import ChromeDriverManager\n",
    "from selenium.webdriver.common.by import By\n",
    "\n",
    "options = webdriver.ChromeOptions()\n",
    "options.add_argument('--headless')\n",
    "driver = webdriver.Chrome(ChromeDriverManager().install(), options=options)\n",
    "\n",
    "url     = 'https://news.yahoo.co.jp/ranking/access/news/'\n",
    "comment = '/comments'\n",
    "page    = '?page='\n",
    "order   = '&order=newer'"
   ]
  },
  {
   "cell_type": "code",
   "execution_count": 4,
   "id": "d401baa9",
   "metadata": {},
   "outputs": [],
   "source": [
    "def task1():\n",
    "    get_list()"
   ]
  },
  {
   "cell_type": "code",
   "execution_count": 5,
   "id": "f7715918",
   "metadata": {
    "scrolled": true
   },
   "outputs": [
    {
     "data": {
      "text/plain": [
       "Every 1 day at 13:30:00 do task1() (last run: [never], next run: 2022-06-27 13:30:00)"
      ]
     },
     "execution_count": 5,
     "metadata": {},
     "output_type": "execute_result"
    }
   ],
   "source": [
    "schedule.every().day.at(\"13:30\").do(task1)"
   ]
  },
  {
   "cell_type": "code",
   "execution_count": null,
   "id": "dc2f188b",
   "metadata": {},
   "outputs": [
    {
     "name": "stdout",
     "output_type": "stream",
     "text": [
      "2022-06-27 13:30:00.064816\n",
      "総合\n",
      "国内\n",
      "国際\n",
      "経済\n",
      "エンタメ\n",
      "スポーツ\n",
      "IT・科学\n",
      "ライフ\n",
      "地域\n",
      "2022-06-28 13:30:00.970031\n",
      "総合\n",
      "国内\n",
      "国際\n",
      "経済\n",
      "エンタメ\n",
      "スポーツ\n",
      "IT・科学\n",
      "ライフ\n",
      "地域\n",
      "2022-06-29 13:30:00.573397\n",
      "総合\n",
      "国内\n",
      "国際\n",
      "経済\n",
      "エンタメ\n",
      "スポーツ\n",
      "IT・科学\n",
      "ライフ\n",
      "地域\n",
      "2022-06-30 13:30:00.676336\n",
      "総合\n",
      "国内\n",
      "国際\n",
      "経済\n",
      "エンタメ\n",
      "スポーツ\n",
      "IT・科学\n",
      "ライフ\n",
      "地域\n",
      "2022-07-01 13:30:00.811088\n",
      "総合\n",
      "国内\n",
      "国際\n",
      "経済\n",
      "エンタメ\n",
      "スポーツ\n",
      "IT・科学\n",
      "ライフ\n",
      "地域\n",
      "2022-07-02 13:30:00.368772\n",
      "総合\n",
      "国内\n",
      "国際\n",
      "経済\n",
      "エンタメ\n",
      "スポーツ\n",
      "IT・科学\n",
      "ライフ\n",
      "地域\n",
      "2022-07-03 13:30:00.846858\n",
      "総合\n",
      "国内\n",
      "国際\n",
      "経済\n",
      "エンタメ\n",
      "スポーツ\n",
      "IT・科学\n",
      "ライフ\n",
      "地域\n"
     ]
    }
   ],
   "source": [
    "while True:\n",
    "    schedule.run_pending()\n",
    "    time.sleep(1)"
   ]
  },
  {
   "cell_type": "code",
   "execution_count": 3,
   "id": "5bb712ce",
   "metadata": {},
   "outputs": [],
   "source": [
    "def get_list():\n",
    "    now = datetime.now()\n",
    "    print(now)\n",
    "    path = f'./data/{now.strftime(\"%m-%d\")}'\n",
    "    category = ['','domestic','world','business','entertainment','sports',\n",
    "                 'it-science','life','local'] \n",
    "    for c in category:\n",
    "        d_ = {}\n",
    "        driver.get(url+c)\n",
    "        c_ = driver.title.split()[2].split(\"）\")[0]\n",
    "        os.makedirs(f'{path}/{c_}',exist_ok=True)\n",
    "        print(c_)\n",
    "        titles = driver.find_elements(By.CLASS_NAME,'newsFeed_item_title')\n",
    "        medias = driver.find_elements(By.CLASS_NAME,'newsFeed_item_media')\n",
    "        links  = driver.find_elements(By.CLASS_NAME,'newsFeed_item_link')\n",
    "        for title, media, link in zip(titles, medias, links):\n",
    "#             print(f'title: {title.text}')\n",
    "#             print(f'media: {media.text}')\n",
    "            d_[title.text.replace('\\u3000', ' ')] = [link.get_attribute('href'),media.text]\n",
    "            if c == '':\n",
    "                c = 'total'\n",
    "            with open(f'{path}/{c_}/list_{c}.pkl',\"wb\") as f:\n",
    "                pickle.dump(d_,f)"
   ]
  },
  {
   "cell_type": "code",
   "execution_count": null,
   "id": "744d44a2",
   "metadata": {},
   "outputs": [],
   "source": [
    "def get_comment():\n",
    "    now = datetime.now()\n",
    "    path = f'./data/{now.strftime(\"%m-%d\")}'\n",
    "    paths = ['data/05-30','data/05-31','data/06-01','data/06-02','data/06-05']\n",
    "    \n",
    "    category = {'総合':'total','国内':'domestic','国際':'world',\n",
    "                '経済':'business','エンタメ':'entertainment','スポーツ':'sports',\n",
    "                 'IT・科学':'it-science','ライフ':'life','地域':'local'}\n",
    "    for path in paths:\n",
    "        print(path)\n",
    "        for c in category:\n",
    "            print(c)\n",
    "            os.makedirs(f'{path}/{c}/comments',exist_ok=True)\n",
    "    #         os.makedirs(f'{path}/{c}/news',exist_ok=True)\n",
    "            with open(f'{path}/{c}/list_{category[c]}.pkl', \"rb\") as f:\n",
    "                d_ = pickle.load(f)\n",
    "                for title in d_:\n",
    "                    print(title)\n",
    "                    driver.get(f'{d_[title][0]}{comment}')\n",
    "                    comments = []\n",
    "                    try:\n",
    "                        iframe = driver.find_element(By.CLASS_NAME,'news-comment-plguin-iframe')\n",
    "                        driver.switch_to.frame(iframe)\n",
    "                    except:\n",
    "    #                     print(title)\n",
    "    #                     print(f'{d_[title][0]}{comment}')\n",
    "                        print('this news is none comment.')\n",
    "                    else:\n",
    "                        try:\n",
    "                            count = driver.find_element(By.CLASS_NAME,'counter').text.split('/')[-1].split('件')[0]\n",
    "                        except:\n",
    "                            print('pass1')\n",
    "                        else:\n",
    "                            for i in range(int(int(count)/10)+1)[::-1]:\n",
    "    #                         print(f'     {d_[title][0]}{comment}{page}{i+1}{order}')\n",
    "                                driver.get(f'{d_[title][0]}{comment}{page}{i+1}{order}')\n",
    "                                iframe = driver.find_element(By.CLASS_NAME,'news-comment-plguin-iframe')\n",
    "                                driver.switch_to.frame(iframe)\n",
    "                                cmtBodys = driver.find_elements(By.CLASS_NAME,'cmtBody')\n",
    "                                comments += [cmtBody.text for cmtBody in cmtBodys]\n",
    "    #                     print(comments)\n",
    "                            with open(f'{path}/{c}/comments/{title}.pkl',\"wb\")as f:\n",
    "                                pickle.dump(comments,f)\n",
    "                    "
   ]
  },
  {
   "cell_type": "code",
   "execution_count": null,
   "id": "ad7c278f",
   "metadata": {},
   "outputs": [],
   "source": []
  }
 ],
 "metadata": {
  "kernelspec": {
   "display_name": "Python 3",
   "language": "python",
   "name": "python3"
  },
  "language_info": {
   "codemirror_mode": {
    "name": "ipython",
    "version": 3
   },
   "file_extension": ".py",
   "mimetype": "text/x-python",
   "name": "python",
   "nbconvert_exporter": "python",
   "pygments_lexer": "ipython3",
   "version": "3.8.8"
  }
 },
 "nbformat": 4,
 "nbformat_minor": 5
}
